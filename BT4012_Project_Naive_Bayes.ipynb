{
  "cells": [
    {
      "cell_type": "markdown",
      "metadata": {
        "id": "bjLltPAnfh-k"
      },
      "source": [
        "# BT4012 Group Project - Random Forest\n",
        "# Vehicle Insurance Claim Fraud Detection"
      ]
    },
    {
      "cell_type": "markdown",
      "metadata": {
        "id": "63D4kZ-GkR0U"
      },
      "source": [
        "## Loading libraries"
      ]
    },
    {
      "cell_type": "code",
      "execution_count": 1,
      "metadata": {
        "id": "YHRnTGqsfeIe"
      },
      "outputs": [],
      "source": [
        "import pandas as pd\n",
        "import numpy as np\n",
        "import matplotlib.pyplot as plt\n",
        "import seaborn as sns\n",
        "from sklearn.feature_extraction.text import CountVectorizer\n",
        "from sklearn.feature_extraction.text import TfidfVectorizer\n",
        "from sklearn.preprocessing import MinMaxScaler\n",
        "import re\n",
        "from sklearn.metrics import roc_auc_score, accuracy_score, classification_report, confusion_matrix, recall_score, precision_score, f1_score, precision_recall_curve, auc\n",
        "from datetime import datetime, timedelta\n",
        "from sklearn.ensemble import RandomForestClassifier\n",
        "from sklearn.naive_bayes import GaussianNB\n",
        "from sklearn.model_selection import GridSearchCV, train_test_split"
      ]
    },
    {
      "cell_type": "code",
      "execution_count": 2,
      "metadata": {
        "id": "cmX_jhoWJZt0"
      },
      "outputs": [],
      "source": [
        "pd.set_option('display.max_columns', None)"
      ]
    },
    {
      "cell_type": "markdown",
      "metadata": {
        "id": "TUBM1WBSkkIh"
      },
      "source": [
        "## Reading Train Data"
      ]
    },
    {
      "cell_type": "code",
      "execution_count": 3,
      "metadata": {
        "colab": {
          "base_uri": "https://localhost:8080/",
          "height": 608
        },
        "id": "Nw263cN-keBG",
        "outputId": "c109a266-7ae2-4101-aaba-2988ef065f79"
      },
      "outputs": [
        {
          "name": "stdout",
          "output_type": "stream",
          "text": [
            "Requirement already satisfied: gdown in /Library/Frameworks/Python.framework/Versions/3.12/lib/python3.12/site-packages (5.2.0)\n",
            "Requirement already satisfied: beautifulsoup4 in /Library/Frameworks/Python.framework/Versions/3.12/lib/python3.12/site-packages (from gdown) (4.12.3)\n",
            "Requirement already satisfied: filelock in /Library/Frameworks/Python.framework/Versions/3.12/lib/python3.12/site-packages (from gdown) (3.16.1)\n",
            "Requirement already satisfied: requests[socks] in /Library/Frameworks/Python.framework/Versions/3.12/lib/python3.12/site-packages (from gdown) (2.32.3)\n",
            "Requirement already satisfied: tqdm in /Library/Frameworks/Python.framework/Versions/3.12/lib/python3.12/site-packages (from gdown) (4.67.0)\n",
            "Requirement already satisfied: soupsieve>1.2 in /Library/Frameworks/Python.framework/Versions/3.12/lib/python3.12/site-packages (from beautifulsoup4->gdown) (2.6)\n",
            "Requirement already satisfied: charset-normalizer<4,>=2 in /Library/Frameworks/Python.framework/Versions/3.12/lib/python3.12/site-packages (from requests[socks]->gdown) (3.4.0)\n",
            "Requirement already satisfied: idna<4,>=2.5 in /Library/Frameworks/Python.framework/Versions/3.12/lib/python3.12/site-packages (from requests[socks]->gdown) (3.10)\n",
            "Requirement already satisfied: urllib3<3,>=1.21.1 in /Library/Frameworks/Python.framework/Versions/3.12/lib/python3.12/site-packages (from requests[socks]->gdown) (2.2.3)\n",
            "Requirement already satisfied: certifi>=2017.4.17 in /Library/Frameworks/Python.framework/Versions/3.12/lib/python3.12/site-packages (from requests[socks]->gdown) (2024.8.30)\n",
            "Requirement already satisfied: PySocks!=1.5.7,>=1.5.6 in /Library/Frameworks/Python.framework/Versions/3.12/lib/python3.12/site-packages (from requests[socks]->gdown) (1.7.1)\n",
            "/Library/Frameworks/Python.framework/Versions/3.12/lib/python3.12/site-packages/gdown/__main__.py:140: FutureWarning: Option `--id` was deprecated in version 4.3.1 and will be removed in 5.0. You don't need to pass it anymore to use a file ID.\n",
            "  warnings.warn(\n",
            "Downloading...\n",
            "From: https://drive.google.com/uc?id=1SCo7qnlCQdA3mIud9rIR9cw79RTfPYhJ\n",
            "To: /Users/gemsonkok/Downloads/fraud_oracle.csv\n",
            "100%|██████████████████████████████████████| 3.62M/3.62M [00:00<00:00, 35.5MB/s]\n"
          ]
        },
        {
          "data": {
            "text/html": [
              "<div>\n",
              "<style scoped>\n",
              "    .dataframe tbody tr th:only-of-type {\n",
              "        vertical-align: middle;\n",
              "    }\n",
              "\n",
              "    .dataframe tbody tr th {\n",
              "        vertical-align: top;\n",
              "    }\n",
              "\n",
              "    .dataframe thead th {\n",
              "        text-align: right;\n",
              "    }\n",
              "</style>\n",
              "<table border=\"1\" class=\"dataframe\">\n",
              "  <thead>\n",
              "    <tr style=\"text-align: right;\">\n",
              "      <th></th>\n",
              "      <th>Month</th>\n",
              "      <th>WeekOfMonth</th>\n",
              "      <th>DayOfWeek</th>\n",
              "      <th>Make</th>\n",
              "      <th>AccidentArea</th>\n",
              "      <th>DayOfWeekClaimed</th>\n",
              "      <th>MonthClaimed</th>\n",
              "      <th>WeekOfMonthClaimed</th>\n",
              "      <th>Sex</th>\n",
              "      <th>MaritalStatus</th>\n",
              "      <th>Age</th>\n",
              "      <th>Fault</th>\n",
              "      <th>PolicyType</th>\n",
              "      <th>VehicleCategory</th>\n",
              "      <th>VehiclePrice</th>\n",
              "      <th>FraudFound_P</th>\n",
              "      <th>PolicyNumber</th>\n",
              "      <th>RepNumber</th>\n",
              "      <th>Deductible</th>\n",
              "      <th>DriverRating</th>\n",
              "      <th>Days_Policy_Accident</th>\n",
              "      <th>Days_Policy_Claim</th>\n",
              "      <th>PastNumberOfClaims</th>\n",
              "      <th>AgeOfVehicle</th>\n",
              "      <th>AgeOfPolicyHolder</th>\n",
              "      <th>PoliceReportFiled</th>\n",
              "      <th>WitnessPresent</th>\n",
              "      <th>AgentType</th>\n",
              "      <th>NumberOfSuppliments</th>\n",
              "      <th>AddressChange_Claim</th>\n",
              "      <th>NumberOfCars</th>\n",
              "      <th>Year</th>\n",
              "      <th>BasePolicy</th>\n",
              "    </tr>\n",
              "  </thead>\n",
              "  <tbody>\n",
              "    <tr>\n",
              "      <th>0</th>\n",
              "      <td>Dec</td>\n",
              "      <td>5</td>\n",
              "      <td>Wednesday</td>\n",
              "      <td>Honda</td>\n",
              "      <td>Urban</td>\n",
              "      <td>Tuesday</td>\n",
              "      <td>Jan</td>\n",
              "      <td>1</td>\n",
              "      <td>Female</td>\n",
              "      <td>Single</td>\n",
              "      <td>21</td>\n",
              "      <td>Policy Holder</td>\n",
              "      <td>Sport - Liability</td>\n",
              "      <td>Sport</td>\n",
              "      <td>more than 69000</td>\n",
              "      <td>0</td>\n",
              "      <td>1</td>\n",
              "      <td>12</td>\n",
              "      <td>300</td>\n",
              "      <td>1</td>\n",
              "      <td>more than 30</td>\n",
              "      <td>more than 30</td>\n",
              "      <td>none</td>\n",
              "      <td>3 years</td>\n",
              "      <td>26 to 30</td>\n",
              "      <td>No</td>\n",
              "      <td>No</td>\n",
              "      <td>External</td>\n",
              "      <td>none</td>\n",
              "      <td>1 year</td>\n",
              "      <td>3 to 4</td>\n",
              "      <td>1994</td>\n",
              "      <td>Liability</td>\n",
              "    </tr>\n",
              "    <tr>\n",
              "      <th>1</th>\n",
              "      <td>Jan</td>\n",
              "      <td>3</td>\n",
              "      <td>Wednesday</td>\n",
              "      <td>Honda</td>\n",
              "      <td>Urban</td>\n",
              "      <td>Monday</td>\n",
              "      <td>Jan</td>\n",
              "      <td>4</td>\n",
              "      <td>Male</td>\n",
              "      <td>Single</td>\n",
              "      <td>34</td>\n",
              "      <td>Policy Holder</td>\n",
              "      <td>Sport - Collision</td>\n",
              "      <td>Sport</td>\n",
              "      <td>more than 69000</td>\n",
              "      <td>0</td>\n",
              "      <td>2</td>\n",
              "      <td>15</td>\n",
              "      <td>400</td>\n",
              "      <td>4</td>\n",
              "      <td>more than 30</td>\n",
              "      <td>more than 30</td>\n",
              "      <td>none</td>\n",
              "      <td>6 years</td>\n",
              "      <td>31 to 35</td>\n",
              "      <td>Yes</td>\n",
              "      <td>No</td>\n",
              "      <td>External</td>\n",
              "      <td>none</td>\n",
              "      <td>no change</td>\n",
              "      <td>1 vehicle</td>\n",
              "      <td>1994</td>\n",
              "      <td>Collision</td>\n",
              "    </tr>\n",
              "    <tr>\n",
              "      <th>2</th>\n",
              "      <td>Oct</td>\n",
              "      <td>5</td>\n",
              "      <td>Friday</td>\n",
              "      <td>Honda</td>\n",
              "      <td>Urban</td>\n",
              "      <td>Thursday</td>\n",
              "      <td>Nov</td>\n",
              "      <td>2</td>\n",
              "      <td>Male</td>\n",
              "      <td>Married</td>\n",
              "      <td>47</td>\n",
              "      <td>Policy Holder</td>\n",
              "      <td>Sport - Collision</td>\n",
              "      <td>Sport</td>\n",
              "      <td>more than 69000</td>\n",
              "      <td>0</td>\n",
              "      <td>3</td>\n",
              "      <td>7</td>\n",
              "      <td>400</td>\n",
              "      <td>3</td>\n",
              "      <td>more than 30</td>\n",
              "      <td>more than 30</td>\n",
              "      <td>1</td>\n",
              "      <td>7 years</td>\n",
              "      <td>41 to 50</td>\n",
              "      <td>No</td>\n",
              "      <td>No</td>\n",
              "      <td>External</td>\n",
              "      <td>none</td>\n",
              "      <td>no change</td>\n",
              "      <td>1 vehicle</td>\n",
              "      <td>1994</td>\n",
              "      <td>Collision</td>\n",
              "    </tr>\n",
              "    <tr>\n",
              "      <th>3</th>\n",
              "      <td>Jun</td>\n",
              "      <td>2</td>\n",
              "      <td>Saturday</td>\n",
              "      <td>Toyota</td>\n",
              "      <td>Rural</td>\n",
              "      <td>Friday</td>\n",
              "      <td>Jul</td>\n",
              "      <td>1</td>\n",
              "      <td>Male</td>\n",
              "      <td>Married</td>\n",
              "      <td>65</td>\n",
              "      <td>Third Party</td>\n",
              "      <td>Sedan - Liability</td>\n",
              "      <td>Sport</td>\n",
              "      <td>20000 to 29000</td>\n",
              "      <td>0</td>\n",
              "      <td>4</td>\n",
              "      <td>4</td>\n",
              "      <td>400</td>\n",
              "      <td>2</td>\n",
              "      <td>more than 30</td>\n",
              "      <td>more than 30</td>\n",
              "      <td>1</td>\n",
              "      <td>more than 7</td>\n",
              "      <td>51 to 65</td>\n",
              "      <td>Yes</td>\n",
              "      <td>No</td>\n",
              "      <td>External</td>\n",
              "      <td>more than 5</td>\n",
              "      <td>no change</td>\n",
              "      <td>1 vehicle</td>\n",
              "      <td>1994</td>\n",
              "      <td>Liability</td>\n",
              "    </tr>\n",
              "    <tr>\n",
              "      <th>4</th>\n",
              "      <td>Jan</td>\n",
              "      <td>5</td>\n",
              "      <td>Monday</td>\n",
              "      <td>Honda</td>\n",
              "      <td>Urban</td>\n",
              "      <td>Tuesday</td>\n",
              "      <td>Feb</td>\n",
              "      <td>2</td>\n",
              "      <td>Female</td>\n",
              "      <td>Single</td>\n",
              "      <td>27</td>\n",
              "      <td>Third Party</td>\n",
              "      <td>Sport - Collision</td>\n",
              "      <td>Sport</td>\n",
              "      <td>more than 69000</td>\n",
              "      <td>0</td>\n",
              "      <td>5</td>\n",
              "      <td>3</td>\n",
              "      <td>400</td>\n",
              "      <td>1</td>\n",
              "      <td>more than 30</td>\n",
              "      <td>more than 30</td>\n",
              "      <td>none</td>\n",
              "      <td>5 years</td>\n",
              "      <td>31 to 35</td>\n",
              "      <td>No</td>\n",
              "      <td>No</td>\n",
              "      <td>External</td>\n",
              "      <td>none</td>\n",
              "      <td>no change</td>\n",
              "      <td>1 vehicle</td>\n",
              "      <td>1994</td>\n",
              "      <td>Collision</td>\n",
              "    </tr>\n",
              "  </tbody>\n",
              "</table>\n",
              "</div>"
            ],
            "text/plain": [
              "  Month  WeekOfMonth  DayOfWeek    Make AccidentArea DayOfWeekClaimed  \\\n",
              "0   Dec            5  Wednesday   Honda        Urban          Tuesday   \n",
              "1   Jan            3  Wednesday   Honda        Urban           Monday   \n",
              "2   Oct            5     Friday   Honda        Urban         Thursday   \n",
              "3   Jun            2   Saturday  Toyota        Rural           Friday   \n",
              "4   Jan            5     Monday   Honda        Urban          Tuesday   \n",
              "\n",
              "  MonthClaimed  WeekOfMonthClaimed     Sex MaritalStatus  Age          Fault  \\\n",
              "0          Jan                   1  Female        Single   21  Policy Holder   \n",
              "1          Jan                   4    Male        Single   34  Policy Holder   \n",
              "2          Nov                   2    Male       Married   47  Policy Holder   \n",
              "3          Jul                   1    Male       Married   65    Third Party   \n",
              "4          Feb                   2  Female        Single   27    Third Party   \n",
              "\n",
              "          PolicyType VehicleCategory     VehiclePrice  FraudFound_P  \\\n",
              "0  Sport - Liability           Sport  more than 69000             0   \n",
              "1  Sport - Collision           Sport  more than 69000             0   \n",
              "2  Sport - Collision           Sport  more than 69000             0   \n",
              "3  Sedan - Liability           Sport   20000 to 29000             0   \n",
              "4  Sport - Collision           Sport  more than 69000             0   \n",
              "\n",
              "   PolicyNumber  RepNumber  Deductible  DriverRating Days_Policy_Accident  \\\n",
              "0             1         12         300             1         more than 30   \n",
              "1             2         15         400             4         more than 30   \n",
              "2             3          7         400             3         more than 30   \n",
              "3             4          4         400             2         more than 30   \n",
              "4             5          3         400             1         more than 30   \n",
              "\n",
              "  Days_Policy_Claim PastNumberOfClaims AgeOfVehicle AgeOfPolicyHolder  \\\n",
              "0      more than 30               none      3 years          26 to 30   \n",
              "1      more than 30               none      6 years          31 to 35   \n",
              "2      more than 30                  1      7 years          41 to 50   \n",
              "3      more than 30                  1  more than 7          51 to 65   \n",
              "4      more than 30               none      5 years          31 to 35   \n",
              "\n",
              "  PoliceReportFiled WitnessPresent AgentType NumberOfSuppliments  \\\n",
              "0                No             No  External                none   \n",
              "1               Yes             No  External                none   \n",
              "2                No             No  External                none   \n",
              "3               Yes             No  External         more than 5   \n",
              "4                No             No  External                none   \n",
              "\n",
              "  AddressChange_Claim NumberOfCars  Year BasePolicy  \n",
              "0              1 year       3 to 4  1994  Liability  \n",
              "1           no change    1 vehicle  1994  Collision  \n",
              "2           no change    1 vehicle  1994  Collision  \n",
              "3           no change    1 vehicle  1994  Liability  \n",
              "4           no change    1 vehicle  1994  Collision  "
            ]
          },
          "execution_count": 3,
          "metadata": {},
          "output_type": "execute_result"
        }
      ],
      "source": [
        "# Getting data from Google Drive\n",
        "!pip install gdown\n",
        "file_id = \"1SCo7qnlCQdA3mIud9rIR9cw79RTfPYhJ\"\n",
        "!gdown {file_id} -O fraud_oracle.csv\n",
        "\n",
        "# Extracting Train and Test Datasets\n",
        "data = pd.read_csv('fraud_oracle.csv')\n",
        "data.head()"
      ]
    },
    {
      "cell_type": "code",
      "execution_count": 4,
      "metadata": {
        "colab": {
          "base_uri": "https://localhost:8080/"
        },
        "id": "oj7BSOCFmTsk",
        "outputId": "a61cffe5-d72c-4119-9e32-7526d8170b3c"
      },
      "outputs": [
        {
          "name": "stdout",
          "output_type": "stream",
          "text": [
            "<class 'pandas.core.frame.DataFrame'>\n",
            "RangeIndex: 15420 entries, 0 to 15419\n",
            "Data columns (total 33 columns):\n",
            " #   Column                Non-Null Count  Dtype \n",
            "---  ------                --------------  ----- \n",
            " 0   Month                 15420 non-null  object\n",
            " 1   WeekOfMonth           15420 non-null  int64 \n",
            " 2   DayOfWeek             15420 non-null  object\n",
            " 3   Make                  15420 non-null  object\n",
            " 4   AccidentArea          15420 non-null  object\n",
            " 5   DayOfWeekClaimed      15420 non-null  object\n",
            " 6   MonthClaimed          15420 non-null  object\n",
            " 7   WeekOfMonthClaimed    15420 non-null  int64 \n",
            " 8   Sex                   15420 non-null  object\n",
            " 9   MaritalStatus         15420 non-null  object\n",
            " 10  Age                   15420 non-null  int64 \n",
            " 11  Fault                 15420 non-null  object\n",
            " 12  PolicyType            15420 non-null  object\n",
            " 13  VehicleCategory       15420 non-null  object\n",
            " 14  VehiclePrice          15420 non-null  object\n",
            " 15  FraudFound_P          15420 non-null  int64 \n",
            " 16  PolicyNumber          15420 non-null  int64 \n",
            " 17  RepNumber             15420 non-null  int64 \n",
            " 18  Deductible            15420 non-null  int64 \n",
            " 19  DriverRating          15420 non-null  int64 \n",
            " 20  Days_Policy_Accident  15420 non-null  object\n",
            " 21  Days_Policy_Claim     15420 non-null  object\n",
            " 22  PastNumberOfClaims    15420 non-null  object\n",
            " 23  AgeOfVehicle          15420 non-null  object\n",
            " 24  AgeOfPolicyHolder     15420 non-null  object\n",
            " 25  PoliceReportFiled     15420 non-null  object\n",
            " 26  WitnessPresent        15420 non-null  object\n",
            " 27  AgentType             15420 non-null  object\n",
            " 28  NumberOfSuppliments   15420 non-null  object\n",
            " 29  AddressChange_Claim   15420 non-null  object\n",
            " 30  NumberOfCars          15420 non-null  object\n",
            " 31  Year                  15420 non-null  int64 \n",
            " 32  BasePolicy            15420 non-null  object\n",
            "dtypes: int64(9), object(24)\n",
            "memory usage: 3.9+ MB\n"
          ]
        }
      ],
      "source": [
        "# Information about our data\n",
        "data.info()"
      ]
    },
    {
      "cell_type": "code",
      "execution_count": 5,
      "metadata": {
        "colab": {
          "base_uri": "https://localhost:8080/",
          "height": 178
        },
        "id": "zBNEZIgrnFbj",
        "outputId": "3ac2b282-8fd4-41e3-9ea9-93b8e29ad6fe"
      },
      "outputs": [
        {
          "data": {
            "text/plain": [
              "FraudFound_P\n",
              "0    14497\n",
              "1      923\n",
              "Name: count, dtype: int64"
            ]
          },
          "execution_count": 5,
          "metadata": {},
          "output_type": "execute_result"
        }
      ],
      "source": [
        "# Fraud and non-Fraud split\n",
        "data['FraudFound_P'].value_counts()"
      ]
    },
    {
      "cell_type": "markdown",
      "metadata": {
        "id": "bqCD4v5lnkxH"
      },
      "source": [
        "# Data Preprocessing\n",
        "\n",
        "## Original Columns\n",
        "\n",
        "* **Month** - The month in which the accident occurred.\n",
        "* **WeekOfMonth** - The week of the month in which the accident occurred.\n",
        "* **DayOfWeek** - The day of the week on which the accident occurred.\n",
        "* **Make** - The manufacturer of the vehicle involved in the claim & accident.\n",
        "* **AccidentArea** - The area where the accident occurred (e.g., urban, rural).\n",
        "* **DayOfWeekClaimed** - The day of the week on which the insurance claim was made.\n",
        "* **MonthClaimed** - The month in which the insurance claim was made.\n",
        "* **WeekOfMonthClaimed** - The week of the month in which the insurance claim was made.\n",
        "* **Sex** - The gender of the policyholder.\n",
        "* **MaritalStatus** - The material status of the policyholder.\n",
        "* **Age** - The age of the driver involved in the accident.\n",
        "* **Fault** - Indicates whether the policyholder was at fault in the accident.\n",
        "* **PolicyType** - The type of insurance policy (e.g., comprehensive, third-party).\n",
        "* **VehicleCategory** - The category of the vehicle (e.g., sedan, SUV).\n",
        "* **VehiclePrice** - The price of vehicle.\n",
        "* **FraudFound_P** - Indicates whether fraud was detected in the insurance claim.\n",
        "* **PolicyNumber** - Currently hidden and labelled as index of the row.\n",
        "* **RepNumber** - The unique identifier for the insurance representative handling the claim.\n",
        "* **Deductible** - The amount that the policy holder must pay out of pocket before the insurance company pays the remaining costs.\n",
        "* **DriverRating** - The rating of the driver, often based on driving history or other factors.\n",
        "* **Days_Policy_Accident** - The number of days since the policy was issued until the accident occurred.\n",
        "* **Days_Policy_Claim** - The number of days since the policy was issued until the claim was made.\n",
        "* **PastNumberOfClaims** - The number of claims previously made by the policyholder.\n",
        "* **AgeOfVehicle** - The age of the vehicle involved in the claim.\n",
        "* **AgeOfPolicyHolder** - The age of the policyholder.\n",
        "* **PoliceReportFiled** - Indicates whether a police report was filed for the accident.\n",
        "* **WitnessPresent** - Indicates whether a witness was present at the scene of the accident.\n",
        "* **AgentType** - The type of insurance agent handling the policy (e.g., internal, external)\n",
        "* **NumberOfSuppliments** - The number of supplementary documents or claims related to the main claim, categorized into ranges.\n",
        "* **AddressChange_Claim** - Indicates whether the address of the policyholder was changed at the time of the claim, categorized into ranges.\n",
        "* **NumberOfCars** - The number of cars insured under the policy, categorized into ranges.\n",
        "* **Year** - The year in which the accident occured.\n",
        "* **BasePolicy** - The base policy type (e.g., Liability, Collision, All Perils).\n",
        "\n",
        "## Columns Added\n",
        "\n",
        "* **AgeMatchesRange** - Whether the **Age** of the driver falls within the age range of **AgeOfPolicyHolder**"
      ]
    },
    {
      "cell_type": "markdown",
      "metadata": {
        "id": "5c1FYbhNMwG_"
      },
      "source": [
        "## Looking at Categorical Variables:"
      ]
    },
    {
      "cell_type": "code",
      "execution_count": 6,
      "metadata": {
        "colab": {
          "base_uri": "https://localhost:8080/"
        },
        "id": "A3XDjoAMnZJA",
        "outputId": "e8149fac-a333-4636-a570-9a81523559e9"
      },
      "outputs": [
        {
          "name": "stdout",
          "output_type": "stream",
          "text": [
            "Series([], dtype: int64)\n"
          ]
        }
      ],
      "source": [
        "# Check for missing values\n",
        "missing_values = data.isnull().sum()\n",
        "print(missing_values[missing_values > 0])"
      ]
    },
    {
      "cell_type": "markdown",
      "metadata": {
        "id": "hH3l4ecbsT59"
      },
      "source": [
        "##### There are no missing values in the dataset."
      ]
    },
    {
      "cell_type": "code",
      "execution_count": 7,
      "metadata": {
        "colab": {
          "base_uri": "https://localhost:8080/"
        },
        "id": "I5tGq9OfplWm",
        "outputId": "1eefbcf2-07d7-4afc-eda8-38d335e3fdde"
      },
      "outputs": [
        {
          "name": "stdout",
          "output_type": "stream",
          "text": [
            "Month: ['Dec' 'Jan' 'Oct' 'Jun' 'Feb' 'Nov' 'Apr' 'Mar' 'Aug' 'Jul' 'May' 'Sep']\n",
            "DayOfWeek: ['Wednesday' 'Friday' 'Saturday' 'Monday' 'Tuesday' 'Sunday' 'Thursday']\n",
            "Make: ['Honda' 'Toyota' 'Ford' 'Mazda' 'Chevrolet' 'Pontiac' 'Accura' 'Dodge'\n",
            " 'Mercury' 'Jaguar' 'Nisson' 'VW' 'Saab' 'Saturn' 'Porche' 'BMW' 'Mecedes'\n",
            " 'Ferrari' 'Lexus']\n",
            "AccidentArea: ['Urban' 'Rural']\n",
            "DayOfWeekClaimed: ['Tuesday' 'Monday' 'Thursday' 'Friday' 'Wednesday' 'Saturday' 'Sunday'\n",
            " '0']\n",
            "MonthClaimed: ['Jan' 'Nov' 'Jul' 'Feb' 'Mar' 'Dec' 'Apr' 'Aug' 'May' 'Jun' 'Sep' 'Oct'\n",
            " '0']\n",
            "Sex: ['Female' 'Male']\n",
            "MaritalStatus: ['Single' 'Married' 'Widow' 'Divorced']\n",
            "Fault: ['Policy Holder' 'Third Party']\n",
            "PolicyType: ['Sport - Liability' 'Sport - Collision' 'Sedan - Liability'\n",
            " 'Utility - All Perils' 'Sedan - All Perils' 'Sedan - Collision'\n",
            " 'Utility - Collision' 'Utility - Liability' 'Sport - All Perils']\n",
            "VehicleCategory: ['Sport' 'Utility' 'Sedan']\n",
            "VehiclePrice: ['more than 69000' '20000 to 29000' '30000 to 39000' 'less than 20000'\n",
            " '40000 to 59000' '60000 to 69000']\n",
            "Days_Policy_Accident: ['more than 30' '15 to 30' 'none' '1 to 7' '8 to 15']\n",
            "Days_Policy_Claim: ['more than 30' '15 to 30' '8 to 15' 'none']\n",
            "PastNumberOfClaims: ['none' '1' '2 to 4' 'more than 4']\n",
            "AgeOfVehicle: ['3 years' '6 years' '7 years' 'more than 7' '5 years' 'new' '4 years'\n",
            " '2 years']\n",
            "AgeOfPolicyHolder: ['26 to 30' '31 to 35' '41 to 50' '51 to 65' '21 to 25' '36 to 40'\n",
            " '16 to 17' 'over 65' '18 to 20']\n",
            "PoliceReportFiled: ['No' 'Yes']\n",
            "WitnessPresent: ['No' 'Yes']\n",
            "AgentType: ['External' 'Internal']\n",
            "NumberOfSuppliments: ['none' 'more than 5' '3 to 5' '1 to 2']\n",
            "AddressChange_Claim: ['1 year' 'no change' '4 to 8 years' '2 to 3 years' 'under 6 months']\n",
            "NumberOfCars: ['3 to 4' '1 vehicle' '2 vehicles' '5 to 8' 'more than 8']\n",
            "BasePolicy: ['Liability' 'Collision' 'All Perils']\n"
          ]
        }
      ],
      "source": [
        "# Unique categories in categorical columns\n",
        "for col in data.select_dtypes(include=['object']).columns:\n",
        "    print(f\"{col}: {data[col].unique()}\")"
      ]
    },
    {
      "cell_type": "markdown",
      "metadata": {
        "id": "rgs_QwFRs0re"
      },
      "source": [
        "##### We identified that some categorical columns (DayOfWeekClaimed and MonthClaimed) contain invalid '0' values. We will thus replace these entries with NaN to mark them as missing.\n"
      ]
    },
    {
      "cell_type": "code",
      "execution_count": 8,
      "metadata": {
        "colab": {
          "base_uri": "https://localhost:8080/"
        },
        "id": "fRB9RyDyt3Yi",
        "outputId": "0e715b6d-e7a2-4f2d-c6d9-931c563f46b8"
      },
      "outputs": [
        {
          "name": "stdout",
          "output_type": "stream",
          "text": [
            "DayOfWeekClaimed    1\n",
            "MonthClaimed        1\n",
            "dtype: int64\n",
            "DayOfWeekClaimed    0\n",
            "MonthClaimed        0\n",
            "dtype: int64\n",
            "Length of data: 15419\n"
          ]
        }
      ],
      "source": [
        "# Replace '0' with NaN for affected columns\n",
        "columns_with_zeros = ['DayOfWeekClaimed', 'MonthClaimed']\n",
        "for col in columns_with_zeros:\n",
        "    data[col] = data[col].replace('0', np.nan)\n",
        "\n",
        "# Check the number of missing values in affected columns\n",
        "print(data[columns_with_zeros].isnull().sum())\n",
        "\n",
        "# Drop rows where these columns have missing values\n",
        "data.dropna(subset=['DayOfWeekClaimed', 'MonthClaimed'], inplace=True)\n",
        "\n",
        "# Verify that there are no more missing values in these columns\n",
        "print(data[['DayOfWeekClaimed', 'MonthClaimed']].isnull().sum())\n",
        "\n",
        "# Reset index on data\n",
        "data.reset_index(drop=True, inplace=True)\n",
        "print(f'Length of data: {len(data)}')"
      ]
    },
    {
      "cell_type": "markdown",
      "metadata": {
        "id": "eSKUMMt6u_Iz"
      },
      "source": [
        "##### Since there was only one missing value in both DayOfWeekClaimed and MonthClaimed, we decided to drop the affected row to simplify the preprocessing."
      ]
    },
    {
      "cell_type": "markdown",
      "metadata": {
        "id": "aFNN1cjzM8D5"
      },
      "source": [
        "## Looking at Numerical Variables:"
      ]
    },
    {
      "cell_type": "code",
      "execution_count": 9,
      "metadata": {
        "colab": {
          "base_uri": "https://localhost:8080/"
        },
        "id": "Kf-gO23ZyAlL",
        "outputId": "1ea6f78c-0e2c-4573-ede9-0bfc3e4dee0a"
      },
      "outputs": [
        {
          "name": "stdout",
          "output_type": "stream",
          "text": [
            "WeekOfMonth: [5 3 2 4 1]\n",
            "WeekOfMonthClaimed: [1 4 2 3 5]\n",
            "Age: [21 34 47 65 27 20 36  0 30 42 71 52 28 61 38 41 32 40 63 31 45 60 39 55\n",
            " 35 44 72 29 37 59 49 50 26 48 64 33 74 23 25 56 16 68 18 51 22 53 46 43\n",
            " 57 54 69 67 19 78 77 75 80 58 73 24 76 62 79 70 17 66]\n",
            "FraudFound_P: [0 1]\n",
            "PolicyNumber: [    1     2     3 ... 15418 15419 15420]\n",
            "RepNumber: [12 15  7  4  3 14  1 13 11 16  6  2  8  5  9 10]\n",
            "Deductible: [300 400 500 700]\n",
            "DriverRating: [1 4 3 2]\n",
            "Year: [1994 1995 1996]\n"
          ]
        }
      ],
      "source": [
        "# Values for numerical columns\n",
        "for col in data.select_dtypes(include=['int64', 'float64']).columns:\n",
        "    print(f\"{col}: {data[col].unique()}\")"
      ]
    },
    {
      "cell_type": "markdown",
      "metadata": {
        "id": "893qx-fn82ij"
      },
      "source": [
        "##### For numerical columns, the Age column contains an invalid value of 0, which likely represents missing or erroneous data. Additionally, the PolicyNumber column appears to be a unique identifier with no predictive relevance, so it can be dropped during feature selection to streamline the modeling process."
      ]
    },
    {
      "cell_type": "markdown",
      "metadata": {
        "id": "lm6njZyQOqG-"
      },
      "source": [
        "### Examining **Age**:"
      ]
    },
    {
      "cell_type": "code",
      "execution_count": 10,
      "metadata": {
        "colab": {
          "base_uri": "https://localhost:8080/"
        },
        "id": "s-Dmg7ZY-N2f",
        "outputId": "8fca819a-67b6-4ef3-c7be-26aa1e44abe5"
      },
      "outputs": [
        {
          "data": {
            "text/plain": [
              "(319, array(['16 to 17'], dtype=object))"
            ]
          },
          "execution_count": 10,
          "metadata": {},
          "output_type": "execute_result"
        }
      ],
      "source": [
        "# Filter rows where Age is 0\n",
        "age_zero_rows = data[data['Age'] == 0]\n",
        "\n",
        "# Count the number of rows where Age is 0\n",
        "age_zero_count = age_zero_rows.shape[0]\n",
        "\n",
        "# Examine the 'AgeOfPolicyHolder' column for these rows\n",
        "age_zero_policy_holder_values = age_zero_rows['AgeOfPolicyHolder'].unique()\n",
        "\n",
        "age_zero_count, age_zero_policy_holder_values"
      ]
    },
    {
      "cell_type": "markdown",
      "metadata": {
        "id": "Kt01JhUw-2vJ"
      },
      "source": [
        "##### There are 319 rows where Age = 0 and for every row with Age = 0, they have a Policy Holder between 16 and 17 years old. This looked suspicious and we decided to investigate the relationship between 'Age' and 'AgeOfPolicyHolder'."
      ]
    },
    {
      "cell_type": "code",
      "execution_count": 11,
      "metadata": {
        "colab": {
          "base_uri": "https://localhost:8080/"
        },
        "id": "xgvf8mPFA40Q",
        "outputId": "a09105bd-c4da-4450-d2d6-602696a62503"
      },
      "outputs": [
        {
          "name": "stdout",
          "output_type": "stream",
          "text": [
            "AgeMatchesRange\n",
            "1    8178\n",
            "0    7241\n",
            "Name: count, dtype: int64        Age AgeOfPolicyHolder\n",
            "0       21          26 to 30\n",
            "4       27          31 to 35\n",
            "5       20          21 to 25\n",
            "7        0          16 to 17\n",
            "8       30          31 to 35\n",
            "...    ...               ...\n",
            "15410   42          36 to 40\n",
            "15411   28          31 to 35\n",
            "15415   30          31 to 35\n",
            "15416   24          26 to 30\n",
            "15418   21          26 to 30\n",
            "\n",
            "[7241 rows x 2 columns]\n"
          ]
        }
      ],
      "source": [
        "# Define the mapping of AgeOfPolicyHolder ranges\n",
        "age_ranges = {\n",
        "    '16 to 17': (16, 17),\n",
        "    '18 to 20': (18, 20),\n",
        "    '21 to 25': (21, 25),\n",
        "    '26 to 30': (26, 30),\n",
        "    '31 to 35': (31, 35),\n",
        "    '36 to 40': (36, 40),\n",
        "    '41 to 50': (41, 50),\n",
        "    '51 to 65': (51, 65),\n",
        "    'over 65': (66, 80)  # Max Age is 80 as seen in the dataset\n",
        "}\n",
        "\n",
        "# Check if Age matches the range in AgeOfPolicyHolder\n",
        "def is_age_matching(row):\n",
        "    if row['AgeOfPolicyHolder'] in age_ranges:\n",
        "        min_age, max_age = age_ranges[row['AgeOfPolicyHolder']]\n",
        "        return min_age <= row['Age'] <= max_age\n",
        "    return False\n",
        "\n",
        "data['AgeMatchesRange'] = data.apply(is_age_matching, axis=1).astype(int)\n",
        "\n",
        "# Count the mismatches\n",
        "age_mismatch_count = data['AgeMatchesRange'].value_counts()\n",
        "\n",
        "# Display only the Age and AgeOfPolicyHolder columns for mismatched rows\n",
        "mismatched_rows = data[data['AgeMatchesRange'] == False]\n",
        "mismatched_rows_filtered = mismatched_rows[['Age', 'AgeOfPolicyHolder']]\n",
        "\n",
        "print(age_mismatch_count, mismatched_rows_filtered)"
      ]
    },
    {
      "cell_type": "markdown",
      "metadata": {
        "id": "Q3RPhmD7CqAN"
      },
      "source": [
        "#####Approximately 46.96% of the data, or 7,241 out of 15,419 rows, have an Age value that does not match the range specified in AgeOfPolicyHolder. This significant percentage suggests systemic discrepancies rather than simple typos, likely indicating that the driver is different from the policyholder. Assuming AgeOfPolicyHolder is more reliable, we address invalid Age values by replacing 0 with the mean of the corresponding interval, specifically 16.5 for the range 16 to 17."
      ]
    },
    {
      "cell_type": "code",
      "execution_count": 12,
      "metadata": {
        "id": "sPUJ9CZ3Fk4o"
      },
      "outputs": [],
      "source": [
        "# Replace Age = 0 with the average of the 16 - 17 age range: 16.5\n",
        "data['Age'] = data['Age'].astype(float)\n",
        "data.loc[data['Age'] == 0, 'Age'] = 16.5"
      ]
    },
    {
      "cell_type": "markdown",
      "metadata": {
        "id": "JTc1nIaYQDlo"
      },
      "source": [
        "### For the next few features, we convert them from categorical non-numeric"
      ]
    },
    {
      "cell_type": "markdown",
      "metadata": {
        "id": "lzB7QhzhAfre"
      },
      "source": [
        "### Examining **NumberOfCars**:\n",
        "\n"
      ]
    },
    {
      "cell_type": "code",
      "execution_count": 13,
      "metadata": {
        "colab": {
          "base_uri": "https://localhost:8080/",
          "height": 272
        },
        "id": "xY9EJ7AsANeV",
        "outputId": "3f6689fb-e931-439a-a6f9-3089029ef716"
      },
      "outputs": [
        {
          "data": {
            "text/plain": [
              "NumberOfCars\n",
              "1 vehicle      14315\n",
              "2 vehicles       709\n",
              "3 to 4           372\n",
              "5 to 8            21\n",
              "more than 8        2\n",
              "Name: count, dtype: int64"
            ]
          },
          "execution_count": 13,
          "metadata": {},
          "output_type": "execute_result"
        }
      ],
      "source": [
        "data[\"NumberOfCars\"].value_counts()"
      ]
    },
    {
      "cell_type": "markdown",
      "metadata": {
        "id": "GG-RZh0gAUto"
      },
      "source": [
        "##### We can convert number of cars into a respective value as it is ordinal data. For those with a range, we will replace them with the minimum of the range"
      ]
    },
    {
      "cell_type": "code",
      "execution_count": 14,
      "metadata": {
        "id": "fUj6N7iWAWIQ"
      },
      "outputs": [],
      "source": [
        "def convert_number_of_cars(value):\n",
        "    if value == '1 vehicle':\n",
        "        return 1\n",
        "    elif value == '2 vehicles':\n",
        "        return 2\n",
        "    elif value == '3 to 4':\n",
        "        return 3 # Minimum of the range\n",
        "    elif value == '5 to 8':\n",
        "        return 5 # Minimum of the range\n",
        "    elif value == 'more than 8':\n",
        "        return 9\n",
        "    else:\n",
        "        return None  # Handle unexpected values\n",
        "\n",
        "# Apply the conversion function\n",
        "data['NumberOfCars'] = data['NumberOfCars'].apply(convert_number_of_cars)"
      ]
    },
    {
      "cell_type": "markdown",
      "metadata": {
        "id": "MwID-rewDOIO"
      },
      "source": [
        "### Examining **AddressChange_Claim**:"
      ]
    },
    {
      "cell_type": "code",
      "execution_count": 15,
      "metadata": {
        "colab": {
          "base_uri": "https://localhost:8080/",
          "height": 272
        },
        "id": "o8c0l3vnDSJB",
        "outputId": "dd5cd80d-af2c-4413-a6dd-cbb876e0a1c0"
      },
      "outputs": [
        {
          "data": {
            "text/plain": [
              "AddressChange_Claim\n",
              "no change         14323\n",
              "4 to 8 years        631\n",
              "2 to 3 years        291\n",
              "1 year              170\n",
              "under 6 months        4\n",
              "Name: count, dtype: int64"
            ]
          },
          "execution_count": 15,
          "metadata": {},
          "output_type": "execute_result"
        }
      ],
      "source": [
        "data['AddressChange_Claim'].value_counts()"
      ]
    },
    {
      "cell_type": "markdown",
      "metadata": {
        "id": "jsKjjkaCDYyA"
      },
      "source": [
        "#####We can change it into a numeric column, repalcing those with a range into the mean of the range"
      ]
    },
    {
      "cell_type": "code",
      "execution_count": 16,
      "metadata": {
        "id": "j9h5ccw5DWpj"
      },
      "outputs": [],
      "source": [
        "def convert_address_change_claim(value):\n",
        "    if value == 'no change':\n",
        "        return 0\n",
        "    elif value == 'under 6 months':\n",
        "        return 0.5/2 # Average of the range\n",
        "    elif value == '1 year':\n",
        "        return 1\n",
        "    elif value == '2 to 3 years':\n",
        "        return (2+3)/2 # Average of the range\n",
        "    elif value == '4 to 8 years':\n",
        "        return (4+8)/2 # Average of the range\n",
        "    else:\n",
        "        return None  # Handle unexpected values\n",
        "\n",
        "# Apply the conversion function\n",
        "data['AddressChange_Claim'] = data['AddressChange_Claim'].apply(convert_address_change_claim)"
      ]
    },
    {
      "cell_type": "markdown",
      "metadata": {
        "id": "jsKrPdAyEqXX"
      },
      "source": [
        "### Examining **NumberOfSuppliments**:"
      ]
    },
    {
      "cell_type": "code",
      "execution_count": 17,
      "metadata": {
        "colab": {
          "base_uri": "https://localhost:8080/",
          "height": 241
        },
        "id": "HelF9jbyEt-E",
        "outputId": "85fafd5a-aaf1-455b-e41e-e60d839c2b28"
      },
      "outputs": [
        {
          "data": {
            "text/plain": [
              "NumberOfSuppliments\n",
              "none           7046\n",
              "more than 5    3867\n",
              "1 to 2         2489\n",
              "3 to 5         2017\n",
              "Name: count, dtype: int64"
            ]
          },
          "execution_count": 17,
          "metadata": {},
          "output_type": "execute_result"
        }
      ],
      "source": [
        "data['NumberOfSuppliments'].value_counts()"
      ]
    },
    {
      "cell_type": "code",
      "execution_count": 18,
      "metadata": {
        "id": "KhbL_uM0E2Nf"
      },
      "outputs": [],
      "source": [
        "def convert_num_supplements(value):\n",
        "    if value == 'none':\n",
        "        return 0\n",
        "    elif value == '1 to 2':\n",
        "        return 1 # Minimum of the range\n",
        "    elif value == '3 to 5':\n",
        "        return 3 # Minimum of the range\n",
        "    elif value == 'more than 5':\n",
        "        return 6 # Minimum of the range\n",
        "    else:\n",
        "        return None  # Handle unexpected values\n",
        "\n",
        "data['NumberOfSuppliments'] = data['NumberOfSuppliments'].apply(convert_num_supplements)"
      ]
    },
    {
      "cell_type": "markdown",
      "metadata": {
        "id": "HljO2T7fNGIy"
      },
      "source": [
        "### Examining **AgeOfVehicle**:"
      ]
    },
    {
      "cell_type": "code",
      "execution_count": 19,
      "metadata": {
        "colab": {
          "base_uri": "https://localhost:8080/",
          "height": 366
        },
        "id": "CwacdNWvNKbg",
        "outputId": "1d760eae-dbfb-4045-8f8f-aff4325774c7"
      },
      "outputs": [
        {
          "data": {
            "text/plain": [
              "AgeOfVehicle\n",
              "7 years        5807\n",
              "more than 7    3981\n",
              "6 years        3448\n",
              "5 years        1357\n",
              "new             372\n",
              "4 years         229\n",
              "3 years         152\n",
              "2 years          73\n",
              "Name: count, dtype: int64"
            ]
          },
          "execution_count": 19,
          "metadata": {},
          "output_type": "execute_result"
        }
      ],
      "source": [
        "data['AgeOfVehicle'].value_counts()"
      ]
    },
    {
      "cell_type": "code",
      "execution_count": 20,
      "metadata": {
        "id": "uO-I6vQHNPR7"
      },
      "outputs": [],
      "source": [
        "def convert_age_of_vehicle(value): # Minimum of the range\n",
        "    if value == 'new':\n",
        "        return 0\n",
        "    elif value == '2 years':\n",
        "        return 2\n",
        "    elif value == '3 years':\n",
        "        return 3\n",
        "    elif value == '4 years':\n",
        "        return 4\n",
        "    elif value == '5 years':\n",
        "        return 5\n",
        "    elif value == '6 years':\n",
        "        return 6\n",
        "    elif value == '7 years':\n",
        "        return 7\n",
        "    elif value == 'more than 7':\n",
        "        return 8\n",
        "    else:\n",
        "        return None  # Handle unexpected values\n",
        "\n",
        "data['AgeOfVehicle'] = data['AgeOfVehicle'].apply(convert_age_of_vehicle)"
      ]
    },
    {
      "cell_type": "markdown",
      "metadata": {
        "id": "qA4TpHNtOPvN"
      },
      "source": [
        "### Examining **PastNumberOfClaims**:"
      ]
    },
    {
      "cell_type": "code",
      "execution_count": 21,
      "metadata": {
        "colab": {
          "base_uri": "https://localhost:8080/",
          "height": 241
        },
        "id": "PC6BIdcSOTOG",
        "outputId": "f974526d-85f3-4071-99ee-767d4dc7d045"
      },
      "outputs": [
        {
          "data": {
            "text/plain": [
              "PastNumberOfClaims\n",
              "2 to 4         5485\n",
              "none           4351\n",
              "1              3573\n",
              "more than 4    2010\n",
              "Name: count, dtype: int64"
            ]
          },
          "execution_count": 21,
          "metadata": {},
          "output_type": "execute_result"
        }
      ],
      "source": [
        "data['PastNumberOfClaims'].value_counts()"
      ]
    },
    {
      "cell_type": "code",
      "execution_count": 22,
      "metadata": {
        "id": "9vOErFZ1OWKJ"
      },
      "outputs": [],
      "source": [
        "def convert_past_num_of_claims(value):\n",
        "    if value == 'none':\n",
        "        return 0\n",
        "    elif value == '1':\n",
        "        return 1\n",
        "    elif value == '2 to 4':\n",
        "        return 2\n",
        "    elif value == 'more than 4':\n",
        "        return 5\n",
        "    else:\n",
        "        return None  # Handle unexpected values\n",
        "\n",
        "data['PastNumberOfClaims'] = data['PastNumberOfClaims'].apply(convert_past_num_of_claims)"
      ]
    },
    {
      "cell_type": "markdown",
      "metadata": {
        "id": "SFc3-PsHE6iw"
      },
      "source": [
        "### Examining **VehiclePrice**:"
      ]
    },
    {
      "cell_type": "code",
      "execution_count": 23,
      "metadata": {
        "colab": {
          "base_uri": "https://localhost:8080/",
          "height": 304
        },
        "id": "4q4fzP-JE6ON",
        "outputId": "359f569d-99aa-4907-99e9-e4b30fd47e1c"
      },
      "outputs": [
        {
          "data": {
            "text/plain": [
              "VehiclePrice\n",
              "20000 to 29000     8079\n",
              "30000 to 39000     3533\n",
              "more than 69000    2163\n",
              "less than 20000    1096\n",
              "40000 to 59000      461\n",
              "60000 to 69000       87\n",
              "Name: count, dtype: int64"
            ]
          },
          "execution_count": 23,
          "metadata": {},
          "output_type": "execute_result"
        }
      ],
      "source": [
        "data['VehiclePrice'].value_counts()"
      ]
    },
    {
      "cell_type": "markdown",
      "metadata": {
        "id": "sz7AQBY6FG2B"
      },
      "source": [
        "##### We replace vehicle prices with the mean of the range since it is a huge range, and more than 69000 with 69000"
      ]
    },
    {
      "cell_type": "code",
      "execution_count": 24,
      "metadata": {
        "id": "Z074Nw6hFdUm"
      },
      "outputs": [],
      "source": [
        "def convert_vehicle_price(value):\n",
        "    if value == 'less than 20000':\n",
        "        return 20000/2\n",
        "    elif value == '20000 to 29000':\n",
        "        return (20000 + 29000)/2\n",
        "    elif value == '30000 to 39000':\n",
        "        return (30000+39000)/2\n",
        "    elif value == '40000 to 59000':\n",
        "        return (40000+59000)/2\n",
        "    elif value == '60000 to 69000':\n",
        "        return (60000+69000)/2\n",
        "    elif value == 'more than 69000':\n",
        "        return 69001\n",
        "    else:\n",
        "        return None  # Handle unexpected values\n",
        "\n",
        "data['VehiclePrice'] = data['VehiclePrice'].apply(convert_vehicle_price)"
      ]
    },
    {
      "cell_type": "markdown",
      "metadata": {
        "id": "Rrfz6dXnPfWb"
      },
      "source": [
        "### Examining **Days_Policy_Accident**"
      ]
    },
    {
      "cell_type": "code",
      "execution_count": 25,
      "metadata": {
        "colab": {
          "base_uri": "https://localhost:8080/",
          "height": 272
        },
        "id": "inSb7kA5GPf4",
        "outputId": "805a500c-2b0b-4572-8b0b-9a053a630b59"
      },
      "outputs": [
        {
          "data": {
            "text/plain": [
              "Days_Policy_Accident\n",
              "more than 30    15246\n",
              "none               55\n",
              "8 to 15            55\n",
              "15 to 30           49\n",
              "1 to 7             14\n",
              "Name: count, dtype: int64"
            ]
          },
          "execution_count": 25,
          "metadata": {},
          "output_type": "execute_result"
        }
      ],
      "source": [
        "data['Days_Policy_Accident'].value_counts()"
      ]
    },
    {
      "cell_type": "markdown",
      "metadata": {
        "id": "zzMDoYn3GyOF"
      },
      "source": [
        "##### We shall replace the ranges with the minimum for consistency."
      ]
    },
    {
      "cell_type": "code",
      "execution_count": 26,
      "metadata": {
        "id": "IWxFAiJPOd3n"
      },
      "outputs": [],
      "source": [
        "def convert_days_policy_accident(value):\n",
        "    if value == 'none':\n",
        "        return 0\n",
        "    elif value == '1 to 7':\n",
        "        return 1\n",
        "    elif value == '8 to 15':\n",
        "        return 8\n",
        "    elif value == '15 to 30':\n",
        "        return 15\n",
        "    elif value == 'more than 30':\n",
        "        return 31\n",
        "    else:\n",
        "        return None  # Handle unexpected values\n",
        "\n",
        "data['Days_Policy_Accident'] = data['Days_Policy_Accident'].apply(convert_days_policy_accident)"
      ]
    },
    {
      "cell_type": "markdown",
      "metadata": {
        "id": "wuHf9TedHztL"
      },
      "source": [
        "### Examining **Days_Policy_Claim**"
      ]
    },
    {
      "cell_type": "code",
      "execution_count": 27,
      "metadata": {
        "colab": {
          "base_uri": "https://localhost:8080/",
          "height": 210
        },
        "id": "czB1ODxZHXsg",
        "outputId": "a0005b50-e70c-49ce-cefc-759c3d577ddc"
      },
      "outputs": [
        {
          "data": {
            "text/plain": [
              "Days_Policy_Claim\n",
              "more than 30    15342\n",
              "15 to 30           56\n",
              "8 to 15            21\n",
              "Name: count, dtype: int64"
            ]
          },
          "execution_count": 27,
          "metadata": {},
          "output_type": "execute_result"
        }
      ],
      "source": [
        "data['Days_Policy_Claim'].value_counts()"
      ]
    },
    {
      "cell_type": "markdown",
      "metadata": {
        "id": "wdHdX3cwH68_"
      },
      "source": [
        "##### We will replace the ranges with the minimum values."
      ]
    },
    {
      "cell_type": "code",
      "execution_count": 28,
      "metadata": {
        "id": "JhxwZk4dH_6O"
      },
      "outputs": [],
      "source": [
        "def convert_days_policy_claim(value):\n",
        "    if value == '8 to 15':\n",
        "        return 8\n",
        "    elif value == '15 to 30':\n",
        "        return 15\n",
        "    elif value == 'more than 30':\n",
        "        return 31\n",
        "    else:\n",
        "        return None  # Handle unexpected values\n",
        "\n",
        "data['Days_Policy_Claim'] = data['Days_Policy_Claim'].apply(convert_days_policy_claim)"
      ]
    },
    {
      "cell_type": "markdown",
      "metadata": {
        "id": "P0cvmWcaIg1O"
      },
      "source": [
        "### Examining **AgeOfPolicyHolder**"
      ]
    },
    {
      "cell_type": "code",
      "execution_count": 29,
      "metadata": {
        "colab": {
          "base_uri": "https://localhost:8080/",
          "height": 398
        },
        "id": "Qqvu4xEJIiqc",
        "outputId": "0f4d08d1-d618-48c4-f290-e6b3de867dab"
      },
      "outputs": [
        {
          "data": {
            "text/plain": [
              "AgeOfPolicyHolder\n",
              "31 to 35    5593\n",
              "36 to 40    4043\n",
              "41 to 50    2828\n",
              "51 to 65    1392\n",
              "26 to 30     613\n",
              "over 65      508\n",
              "16 to 17     319\n",
              "21 to 25     108\n",
              "18 to 20      15\n",
              "Name: count, dtype: int64"
            ]
          },
          "execution_count": 29,
          "metadata": {},
          "output_type": "execute_result"
        }
      ],
      "source": [
        "data['AgeOfPolicyHolder'].value_counts()"
      ]
    },
    {
      "cell_type": "markdown",
      "metadata": {
        "id": "Pmw_OJtYIpBf"
      },
      "source": [
        "### We will replace the ranges with the minimum values."
      ]
    },
    {
      "cell_type": "code",
      "execution_count": 30,
      "metadata": {
        "id": "g9fg4Ym6IsA5"
      },
      "outputs": [],
      "source": [
        "def convert_age_of_policy_holder(value): # Minimum of the range\n",
        "    if value == '16 to 17':\n",
        "        return 16\n",
        "    elif value == '18 to 20':\n",
        "        return 18\n",
        "    elif value == '21 to 25':\n",
        "        return 21\n",
        "    elif value == '26 to 30':\n",
        "        return 26\n",
        "    elif value == '31 to 35':\n",
        "        return 31\n",
        "    elif value == '36 to 40':\n",
        "        return 36\n",
        "    elif value == '41 to 50':\n",
        "        return 41\n",
        "    elif value == '51 to 65':\n",
        "        return 51\n",
        "    elif value == 'over 65':\n",
        "        return 66\n",
        "    else:\n",
        "        return None  # Handle unexpected values\n",
        "\n",
        "data['AgeOfPolicyHolder'] = data['AgeOfPolicyHolder'].apply(convert_age_of_policy_holder)"
      ]
    },
    {
      "cell_type": "markdown",
      "metadata": {
        "id": "0X_RbLZTJ3em"
      },
      "source": [
        "### Examining at **Yes**/**No** Columns: **PoliceReportFiled** & **WitnessPresent**"
      ]
    },
    {
      "cell_type": "code",
      "execution_count": 31,
      "metadata": {
        "colab": {
          "base_uri": "https://localhost:8080/"
        },
        "id": "4jtXPbKoJY-O",
        "outputId": "20f06bfa-5cf3-4f77-c60f-029d96107867"
      },
      "outputs": [
        {
          "name": "stdout",
          "output_type": "stream",
          "text": [
            "PoliceReportFiled\n",
            "No     14991\n",
            "Yes      428\n",
            "Name: count, dtype: int64\n",
            "WitnessPresent\n",
            "No     15332\n",
            "Yes       87\n",
            "Name: count, dtype: int64\n"
          ]
        }
      ],
      "source": [
        "print(data['PoliceReportFiled'].value_counts())\n",
        "print(data['WitnessPresent'].value_counts())"
      ]
    },
    {
      "cell_type": "markdown",
      "metadata": {
        "id": "gPs0w0zVJ78v"
      },
      "source": [
        "##### We can convert Yes to 1, and No to 0 for these 2 columns"
      ]
    },
    {
      "cell_type": "code",
      "execution_count": 32,
      "metadata": {
        "id": "od0kA740J7ie"
      },
      "outputs": [],
      "source": [
        "data['PoliceReportFiled'] = data['PoliceReportFiled'].map({'Yes': 1, 'No': 0})\n",
        "data['WitnessPresent'] = data['WitnessPresent'].map({'Yes': 1, 'No': 0})"
      ]
    },
    {
      "cell_type": "markdown",
      "metadata": {
        "id": "WPUI472wKggl"
      },
      "source": [
        "### Examining **AgentType**"
      ]
    },
    {
      "cell_type": "code",
      "execution_count": 33,
      "metadata": {
        "colab": {
          "base_uri": "https://localhost:8080/",
          "height": 178
        },
        "id": "wxOTakrIKcYU",
        "outputId": "412c5c15-7263-46cc-d0f2-2070a66f9287"
      },
      "outputs": [
        {
          "data": {
            "text/plain": [
              "AgentType\n",
              "External    15178\n",
              "Internal      241\n",
              "Name: count, dtype: int64"
            ]
          },
          "execution_count": 33,
          "metadata": {},
          "output_type": "execute_result"
        }
      ],
      "source": [
        "data['AgentType'].value_counts()"
      ]
    },
    {
      "cell_type": "markdown",
      "metadata": {
        "id": "XsBfX03oKkQf"
      },
      "source": [
        "##### We can transform this into a new boolean column called **AgentTypeExternal**, then drop the old column"
      ]
    },
    {
      "cell_type": "code",
      "execution_count": 34,
      "metadata": {
        "id": "7poj40IxKq25"
      },
      "outputs": [],
      "source": [
        "data['AgentTypeExternal'] = data['AgentType'].map({'External': 1, 'Internal': 0})\n",
        "data = data.drop('AgentType', axis=1)"
      ]
    },
    {
      "cell_type": "markdown",
      "metadata": {
        "id": "uhZ6bP9KLcnw"
      },
      "source": [
        "### Examining **Fault**"
      ]
    },
    {
      "cell_type": "code",
      "execution_count": 35,
      "metadata": {
        "colab": {
          "base_uri": "https://localhost:8080/",
          "height": 178
        },
        "id": "QjHbUcIfKtta",
        "outputId": "8ed2d0ed-a759-4a62-b170-43d1a6d1f7e4"
      },
      "outputs": [
        {
          "data": {
            "text/plain": [
              "Fault\n",
              "Policy Holder    11229\n",
              "Third Party       4190\n",
              "Name: count, dtype: int64"
            ]
          },
          "execution_count": 35,
          "metadata": {},
          "output_type": "execute_result"
        }
      ],
      "source": [
        "data[\"Fault\"].value_counts()"
      ]
    },
    {
      "cell_type": "markdown",
      "metadata": {
        "id": "N9Yu6bIULfwk"
      },
      "source": [
        "##### We can transform this into a new binary column called **Is_Policy_Holder_Fault**, then drop the old column"
      ]
    },
    {
      "cell_type": "code",
      "execution_count": 36,
      "metadata": {
        "id": "q82hdaa4Lqy1"
      },
      "outputs": [],
      "source": [
        "data['Is_Policy_Holder_Fault'] = data['Fault'].map({'Policy Holder': 1, 'Third Party': 0})\n",
        "data = data.drop('Fault', axis=1)"
      ]
    },
    {
      "cell_type": "markdown",
      "metadata": {
        "id": "sUD1p7HeOi-W"
      },
      "source": [
        "### Examining **AccidentArea**"
      ]
    },
    {
      "cell_type": "code",
      "execution_count": 37,
      "metadata": {
        "colab": {
          "base_uri": "https://localhost:8080/",
          "height": 178
        },
        "id": "e1xMNhx0OCbi",
        "outputId": "6b52c599-a3e8-4385-c4f6-8c8966ecfb5d"
      },
      "outputs": [
        {
          "data": {
            "text/plain": [
              "AccidentArea\n",
              "Urban    13822\n",
              "Rural     1597\n",
              "Name: count, dtype: int64"
            ]
          },
          "execution_count": 37,
          "metadata": {},
          "output_type": "execute_result"
        }
      ],
      "source": [
        "data[\"AccidentArea\"].value_counts()"
      ]
    },
    {
      "cell_type": "markdown",
      "metadata": {
        "id": "iETlTiS1OnIQ"
      },
      "source": [
        "##### We can transform this into a binary column called **Is_Urban**, then drop the original column"
      ]
    },
    {
      "cell_type": "code",
      "execution_count": 38,
      "metadata": {
        "id": "MoEvpRNpOzdi"
      },
      "outputs": [],
      "source": [
        "data['Is_Urban'] = data['AccidentArea'].map({'Urban': 1, 'Rural': 0})\n",
        "data = data.drop('AccidentArea', axis=1)"
      ]
    },
    {
      "cell_type": "markdown",
      "metadata": {
        "id": "ASaANnqxPJNe"
      },
      "source": [
        "### Examining **Sex**"
      ]
    },
    {
      "cell_type": "code",
      "execution_count": 39,
      "metadata": {
        "colab": {
          "base_uri": "https://localhost:8080/",
          "height": 178
        },
        "id": "0rJ6U5xoO_MD",
        "outputId": "ebe7b854-a26d-4212-b3c3-df6fa06203f1"
      },
      "outputs": [
        {
          "data": {
            "text/plain": [
              "Sex\n",
              "Male      12999\n",
              "Female     2420\n",
              "Name: count, dtype: int64"
            ]
          },
          "execution_count": 39,
          "metadata": {},
          "output_type": "execute_result"
        }
      ],
      "source": [
        "data[\"Sex\"].value_counts()"
      ]
    },
    {
      "cell_type": "markdown",
      "metadata": {
        "id": "oL6vexpJPPhG"
      },
      "source": [
        "##### We can transform this into a binary column called **Is_Male**, then drop the original column"
      ]
    },
    {
      "cell_type": "code",
      "execution_count": 40,
      "metadata": {
        "id": "yOxYojB_PVCO"
      },
      "outputs": [],
      "source": [
        "data['Is_Male'] = data['Sex'].map({'Male': 1, 'Female': 0})\n",
        "data = data.drop('Sex', axis=1)"
      ]
    },
    {
      "cell_type": "markdown",
      "metadata": {
        "id": "ErM5N0-Pf3gk"
      },
      "source": [
        "### Checking the data after Data-Preprocessing"
      ]
    },
    {
      "cell_type": "code",
      "execution_count": 41,
      "metadata": {
        "colab": {
          "base_uri": "https://localhost:8080/",
          "height": 313
        },
        "id": "jh6Jg80TPdb-",
        "outputId": "a45daf9a-6aa0-464b-ef96-d0c767db3064"
      },
      "outputs": [
        {
          "data": {
            "text/html": [
              "<div>\n",
              "<style scoped>\n",
              "    .dataframe tbody tr th:only-of-type {\n",
              "        vertical-align: middle;\n",
              "    }\n",
              "\n",
              "    .dataframe tbody tr th {\n",
              "        vertical-align: top;\n",
              "    }\n",
              "\n",
              "    .dataframe thead th {\n",
              "        text-align: right;\n",
              "    }\n",
              "</style>\n",
              "<table border=\"1\" class=\"dataframe\">\n",
              "  <thead>\n",
              "    <tr style=\"text-align: right;\">\n",
              "      <th></th>\n",
              "      <th>Month</th>\n",
              "      <th>WeekOfMonth</th>\n",
              "      <th>DayOfWeek</th>\n",
              "      <th>Make</th>\n",
              "      <th>DayOfWeekClaimed</th>\n",
              "      <th>MonthClaimed</th>\n",
              "      <th>WeekOfMonthClaimed</th>\n",
              "      <th>MaritalStatus</th>\n",
              "      <th>Age</th>\n",
              "      <th>PolicyType</th>\n",
              "      <th>VehicleCategory</th>\n",
              "      <th>VehiclePrice</th>\n",
              "      <th>FraudFound_P</th>\n",
              "      <th>PolicyNumber</th>\n",
              "      <th>RepNumber</th>\n",
              "      <th>Deductible</th>\n",
              "      <th>DriverRating</th>\n",
              "      <th>Days_Policy_Accident</th>\n",
              "      <th>Days_Policy_Claim</th>\n",
              "      <th>PastNumberOfClaims</th>\n",
              "      <th>AgeOfVehicle</th>\n",
              "      <th>AgeOfPolicyHolder</th>\n",
              "      <th>PoliceReportFiled</th>\n",
              "      <th>WitnessPresent</th>\n",
              "      <th>NumberOfSuppliments</th>\n",
              "      <th>AddressChange_Claim</th>\n",
              "      <th>NumberOfCars</th>\n",
              "      <th>Year</th>\n",
              "      <th>BasePolicy</th>\n",
              "      <th>AgeMatchesRange</th>\n",
              "      <th>AgentTypeExternal</th>\n",
              "      <th>Is_Policy_Holder_Fault</th>\n",
              "      <th>Is_Urban</th>\n",
              "      <th>Is_Male</th>\n",
              "    </tr>\n",
              "  </thead>\n",
              "  <tbody>\n",
              "    <tr>\n",
              "      <th>0</th>\n",
              "      <td>Dec</td>\n",
              "      <td>5</td>\n",
              "      <td>Wednesday</td>\n",
              "      <td>Honda</td>\n",
              "      <td>Tuesday</td>\n",
              "      <td>Jan</td>\n",
              "      <td>1</td>\n",
              "      <td>Single</td>\n",
              "      <td>21.0</td>\n",
              "      <td>Sport - Liability</td>\n",
              "      <td>Sport</td>\n",
              "      <td>69001.0</td>\n",
              "      <td>0</td>\n",
              "      <td>1</td>\n",
              "      <td>12</td>\n",
              "      <td>300</td>\n",
              "      <td>1</td>\n",
              "      <td>31</td>\n",
              "      <td>31</td>\n",
              "      <td>0</td>\n",
              "      <td>3</td>\n",
              "      <td>26</td>\n",
              "      <td>0</td>\n",
              "      <td>0</td>\n",
              "      <td>0</td>\n",
              "      <td>1.0</td>\n",
              "      <td>3</td>\n",
              "      <td>1994</td>\n",
              "      <td>Liability</td>\n",
              "      <td>0</td>\n",
              "      <td>1</td>\n",
              "      <td>1</td>\n",
              "      <td>1</td>\n",
              "      <td>0</td>\n",
              "    </tr>\n",
              "    <tr>\n",
              "      <th>1</th>\n",
              "      <td>Jan</td>\n",
              "      <td>3</td>\n",
              "      <td>Wednesday</td>\n",
              "      <td>Honda</td>\n",
              "      <td>Monday</td>\n",
              "      <td>Jan</td>\n",
              "      <td>4</td>\n",
              "      <td>Single</td>\n",
              "      <td>34.0</td>\n",
              "      <td>Sport - Collision</td>\n",
              "      <td>Sport</td>\n",
              "      <td>69001.0</td>\n",
              "      <td>0</td>\n",
              "      <td>2</td>\n",
              "      <td>15</td>\n",
              "      <td>400</td>\n",
              "      <td>4</td>\n",
              "      <td>31</td>\n",
              "      <td>31</td>\n",
              "      <td>0</td>\n",
              "      <td>6</td>\n",
              "      <td>31</td>\n",
              "      <td>1</td>\n",
              "      <td>0</td>\n",
              "      <td>0</td>\n",
              "      <td>0.0</td>\n",
              "      <td>1</td>\n",
              "      <td>1994</td>\n",
              "      <td>Collision</td>\n",
              "      <td>1</td>\n",
              "      <td>1</td>\n",
              "      <td>1</td>\n",
              "      <td>1</td>\n",
              "      <td>1</td>\n",
              "    </tr>\n",
              "    <tr>\n",
              "      <th>2</th>\n",
              "      <td>Oct</td>\n",
              "      <td>5</td>\n",
              "      <td>Friday</td>\n",
              "      <td>Honda</td>\n",
              "      <td>Thursday</td>\n",
              "      <td>Nov</td>\n",
              "      <td>2</td>\n",
              "      <td>Married</td>\n",
              "      <td>47.0</td>\n",
              "      <td>Sport - Collision</td>\n",
              "      <td>Sport</td>\n",
              "      <td>69001.0</td>\n",
              "      <td>0</td>\n",
              "      <td>3</td>\n",
              "      <td>7</td>\n",
              "      <td>400</td>\n",
              "      <td>3</td>\n",
              "      <td>31</td>\n",
              "      <td>31</td>\n",
              "      <td>1</td>\n",
              "      <td>7</td>\n",
              "      <td>41</td>\n",
              "      <td>0</td>\n",
              "      <td>0</td>\n",
              "      <td>0</td>\n",
              "      <td>0.0</td>\n",
              "      <td>1</td>\n",
              "      <td>1994</td>\n",
              "      <td>Collision</td>\n",
              "      <td>1</td>\n",
              "      <td>1</td>\n",
              "      <td>1</td>\n",
              "      <td>1</td>\n",
              "      <td>1</td>\n",
              "    </tr>\n",
              "    <tr>\n",
              "      <th>3</th>\n",
              "      <td>Jun</td>\n",
              "      <td>2</td>\n",
              "      <td>Saturday</td>\n",
              "      <td>Toyota</td>\n",
              "      <td>Friday</td>\n",
              "      <td>Jul</td>\n",
              "      <td>1</td>\n",
              "      <td>Married</td>\n",
              "      <td>65.0</td>\n",
              "      <td>Sedan - Liability</td>\n",
              "      <td>Sport</td>\n",
              "      <td>24500.0</td>\n",
              "      <td>0</td>\n",
              "      <td>4</td>\n",
              "      <td>4</td>\n",
              "      <td>400</td>\n",
              "      <td>2</td>\n",
              "      <td>31</td>\n",
              "      <td>31</td>\n",
              "      <td>1</td>\n",
              "      <td>8</td>\n",
              "      <td>51</td>\n",
              "      <td>1</td>\n",
              "      <td>0</td>\n",
              "      <td>6</td>\n",
              "      <td>0.0</td>\n",
              "      <td>1</td>\n",
              "      <td>1994</td>\n",
              "      <td>Liability</td>\n",
              "      <td>1</td>\n",
              "      <td>1</td>\n",
              "      <td>0</td>\n",
              "      <td>0</td>\n",
              "      <td>1</td>\n",
              "    </tr>\n",
              "    <tr>\n",
              "      <th>4</th>\n",
              "      <td>Jan</td>\n",
              "      <td>5</td>\n",
              "      <td>Monday</td>\n",
              "      <td>Honda</td>\n",
              "      <td>Tuesday</td>\n",
              "      <td>Feb</td>\n",
              "      <td>2</td>\n",
              "      <td>Single</td>\n",
              "      <td>27.0</td>\n",
              "      <td>Sport - Collision</td>\n",
              "      <td>Sport</td>\n",
              "      <td>69001.0</td>\n",
              "      <td>0</td>\n",
              "      <td>5</td>\n",
              "      <td>3</td>\n",
              "      <td>400</td>\n",
              "      <td>1</td>\n",
              "      <td>31</td>\n",
              "      <td>31</td>\n",
              "      <td>0</td>\n",
              "      <td>5</td>\n",
              "      <td>31</td>\n",
              "      <td>0</td>\n",
              "      <td>0</td>\n",
              "      <td>0</td>\n",
              "      <td>0.0</td>\n",
              "      <td>1</td>\n",
              "      <td>1994</td>\n",
              "      <td>Collision</td>\n",
              "      <td>0</td>\n",
              "      <td>1</td>\n",
              "      <td>0</td>\n",
              "      <td>1</td>\n",
              "      <td>0</td>\n",
              "    </tr>\n",
              "  </tbody>\n",
              "</table>\n",
              "</div>"
            ],
            "text/plain": [
              "  Month  WeekOfMonth  DayOfWeek    Make DayOfWeekClaimed MonthClaimed  \\\n",
              "0   Dec            5  Wednesday   Honda          Tuesday          Jan   \n",
              "1   Jan            3  Wednesday   Honda           Monday          Jan   \n",
              "2   Oct            5     Friday   Honda         Thursday          Nov   \n",
              "3   Jun            2   Saturday  Toyota           Friday          Jul   \n",
              "4   Jan            5     Monday   Honda          Tuesday          Feb   \n",
              "\n",
              "   WeekOfMonthClaimed MaritalStatus   Age         PolicyType VehicleCategory  \\\n",
              "0                   1        Single  21.0  Sport - Liability           Sport   \n",
              "1                   4        Single  34.0  Sport - Collision           Sport   \n",
              "2                   2       Married  47.0  Sport - Collision           Sport   \n",
              "3                   1       Married  65.0  Sedan - Liability           Sport   \n",
              "4                   2        Single  27.0  Sport - Collision           Sport   \n",
              "\n",
              "   VehiclePrice  FraudFound_P  PolicyNumber  RepNumber  Deductible  \\\n",
              "0       69001.0             0             1         12         300   \n",
              "1       69001.0             0             2         15         400   \n",
              "2       69001.0             0             3          7         400   \n",
              "3       24500.0             0             4          4         400   \n",
              "4       69001.0             0             5          3         400   \n",
              "\n",
              "   DriverRating  Days_Policy_Accident  Days_Policy_Claim  PastNumberOfClaims  \\\n",
              "0             1                    31                 31                   0   \n",
              "1             4                    31                 31                   0   \n",
              "2             3                    31                 31                   1   \n",
              "3             2                    31                 31                   1   \n",
              "4             1                    31                 31                   0   \n",
              "\n",
              "   AgeOfVehicle  AgeOfPolicyHolder  PoliceReportFiled  WitnessPresent  \\\n",
              "0             3                 26                  0               0   \n",
              "1             6                 31                  1               0   \n",
              "2             7                 41                  0               0   \n",
              "3             8                 51                  1               0   \n",
              "4             5                 31                  0               0   \n",
              "\n",
              "   NumberOfSuppliments  AddressChange_Claim  NumberOfCars  Year BasePolicy  \\\n",
              "0                    0                  1.0             3  1994  Liability   \n",
              "1                    0                  0.0             1  1994  Collision   \n",
              "2                    0                  0.0             1  1994  Collision   \n",
              "3                    6                  0.0             1  1994  Liability   \n",
              "4                    0                  0.0             1  1994  Collision   \n",
              "\n",
              "   AgeMatchesRange  AgentTypeExternal  Is_Policy_Holder_Fault  Is_Urban  \\\n",
              "0                0                  1                       1         1   \n",
              "1                1                  1                       1         1   \n",
              "2                1                  1                       1         1   \n",
              "3                1                  1                       0         0   \n",
              "4                0                  1                       0         1   \n",
              "\n",
              "   Is_Male  \n",
              "0        0  \n",
              "1        1  \n",
              "2        1  \n",
              "3        1  \n",
              "4        0  "
            ]
          },
          "execution_count": 41,
          "metadata": {},
          "output_type": "execute_result"
        }
      ],
      "source": [
        "data.head()"
      ]
    },
    {
      "cell_type": "markdown",
      "metadata": {
        "id": "F5D-NVy9pNp0"
      },
      "source": [
        "# Feature Engineering\n",
        "\n",
        "## New Columns Added\n",
        "\n",
        "1. **Claim_Processing_Time** - Difference between date of accident and date of claim made\n",
        "2. **Policy_Type_Vehicle_Category** - Discrepancies between vehicle category and type of policy bought, eg Sport vehicle category buying Sedan policy (1 denotes lower vehicle category buying a higher policy type, while -1 denotes a higher vehicle category buying a lower policy type)\n",
        "3. **Low_Price_Highly_Insured** - 2 lowest vehicle_price with most expensive policy bought (all perils)\n",
        "4. **PolicyHolder_Aggressiveness** - ratio of PastNumberOfClaims and DriverRating, also with fault accounted for\n",
        "5. **Vehicle_Value_to_Age_Ratio** - Ratio of Vehicle_Price to AgeOfVehicle\n",
        "6. **Vehicle_Value_to_Deductable_Ratio** - ratio of vehicle price to deductible amount\n",
        "7. **Has_Claimed_Before**\n",
        "8. **Severe_Accident** - if police report filed and witness present\n",
        "\n",
        "## Columns Dropped\n",
        "* **WeekOfMonth** - The week of the month in which the accident occurred.\n",
        "* **WeekOfMonthClaimed** - The week of the month in which the insurance claim was made.\n",
        "* **PolicyNumber** - Currently hidden and labelled as index of the row."
      ]
    },
    {
      "cell_type": "code",
      "execution_count": 42,
      "metadata": {
        "id": "DHYGBeJFFZfI"
      },
      "outputs": [],
      "source": [
        "# Feature Engineering\n",
        "\n",
        "# Feature 1\n",
        "month_map = {\n",
        "    'Jan': 1, 'Feb': 2, 'Mar': 3, 'Apr': 4,\n",
        "    'May': 5, 'Jun': 6, 'Jul': 7, 'Aug': 8,\n",
        "    'Sep': 9, 'Oct': 10, 'Nov': 11, 'Dec': 12\n",
        "}\n",
        "\n",
        "# Map for days of the week to their numerical values\n",
        "day_of_week_map = {'Sunday': 0, 'Monday': 1, 'Tuesday': 2, 'Wednesday': 3,\n",
        "                   'Thursday': 4, 'Friday': 5, 'Saturday': 6}\n",
        "\n",
        "def calculate_accident_date(row):\n",
        "    month = month_map[row['Month']]\n",
        "    week_of_month = row['WeekOfMonth']\n",
        "    day_of_week = day_of_week_map[row['DayOfWeek']]\n",
        "    year = row['Year']\n",
        "\n",
        "    # Get the accident_date\n",
        "    first_day = datetime(year, month, 1)\n",
        "    week_of_accident = first_day + timedelta(weeks=(week_of_month - 1))\n",
        "    accident_date = week_of_accident + timedelta(days=(day_of_week - (week_of_accident.weekday()+1)%7))\n",
        "\n",
        "    return accident_date\n",
        "\n",
        "def calculate_claim_date(row):\n",
        "    accident_month = month_map[row['Month']]\n",
        "    accident_year = row['Year']\n",
        "\n",
        "    claim_month = month_map[row['MonthClaimed']]\n",
        "    claim_week = row['WeekOfMonthClaimed']\n",
        "    claim_day_of_week = day_of_week_map[row['DayOfWeekClaimed']]\n",
        "\n",
        "    # If claim month is Jan, while accident month is Dec, claim year should be the year after\n",
        "    if claim_month < accident_month:\n",
        "      claim_year = accident_year + 1\n",
        "    else:\n",
        "      claim_year = accident_year\n",
        "\n",
        "    # Get the claim date\n",
        "    first_day = datetime(claim_year, claim_month, 1)\n",
        "    week_of_claim = first_day + timedelta(weeks=(claim_week - 1))\n",
        "    claim_date = week_of_claim + timedelta(days=(claim_day_of_week - (week_of_claim.weekday()+1)%7))\n",
        "\n",
        "    return claim_date\n",
        "\n",
        "# Intermediate Steps:\n",
        "data['Accident_Date'] = data.apply(calculate_accident_date, axis=1)\n",
        "data['Claim_Date'] = data.apply(calculate_claim_date, axis=1)\n",
        "\n",
        "data['Claim_Processing_Time'] = (data['Claim_Date'] - data['Accident_Date']).dt.days\n",
        "\n",
        "# Drop Intermediate Columns:\n",
        "data = data.drop(['Accident_Date', 'Claim_Date'], axis=1)\n",
        "\n",
        "# Feature 2:\n",
        "def check_policy_vehicle_discrepancy(row):\n",
        "    policy_vehicle_category = row['PolicyType'].split(' - ')[0]\n",
        "    category_order = {'Utility': 1, 'Sedan': 2, 'Sports': 3}\n",
        "    actual_category = category_order.get(row['VehicleCategory'], 0)\n",
        "    policy_category = category_order.get(policy_vehicle_category, 0)\n",
        "\n",
        "    if actual_category < policy_category:\n",
        "        return 1\n",
        "    elif actual_category > policy_category:\n",
        "        return -1\n",
        "    else:\n",
        "        return 0\n",
        "\n",
        "data['Policy_Type_Vehicle_Category'] = data.apply(check_policy_vehicle_discrepancy, axis=1)\n",
        "\n",
        "# Feature 3\n",
        "low_price_categories = ['less than 20000', '20000 to 29000']\n",
        "\n",
        "data['Low_Price_Highly_Insured'] = ((data['VehiclePrice'].isin(low_price_categories)) &\n",
        "                                    (data['PolicyType'].str.contains('All Perils'))).astype(int)\n",
        "\n",
        "# Feature 4\n",
        "def calculate_aggressiveness(row):\n",
        "    max_rating = 5\n",
        "    aggressiveness = row['PastNumberOfClaims'] * (max_rating - row['DriverRating'] + 1)\n",
        "    if row['Is_Policy_Holder_Fault'] == 'Yes':\n",
        "        aggressiveness *= 1.5\n",
        "    return aggressiveness\n",
        "\n",
        "data['PolicyHolder_Aggressiveness'] = data.apply(calculate_aggressiveness, axis=1)\n",
        "\n",
        "#Feature 5\n",
        "data['Vehicle_Value_to_Age_Ratio'] = data['VehiclePrice'] / (data['AgeOfVehicle'] + 1)\n",
        "\n",
        "#Feature 6\n",
        "data['Vehicle_Value_to_Deductible_Ratio'] = data['VehiclePrice'] / (data['Deductible'] + 1)\n",
        "\n",
        "#Feature 7\n",
        "data['Has_Claimed_Before'] = (data['PastNumberOfClaims'] != 'None').astype(int)\n",
        "\n",
        "#Feature 8\n",
        "data['Severe_Accident'] = ((data['PoliceReportFiled'] == 1) & (data['WitnessPresent'] == 1)).astype(int)\n",
        "\n",
        "# Drop Unused Columns\n",
        "data = data.drop(['WeekOfMonth', 'WeekOfMonthClaimed', 'PolicyNumber'], axis=1)"
      ]
    },
    {
      "cell_type": "markdown",
      "metadata": {
        "id": "B4zVO3Dhmfs0"
      },
      "source": [
        "### One-Hot Encoding For Remaining Categorical Columns:\n",
        "* **Month**\n",
        "* **DayOfWeek**\n",
        "* **Make**\n",
        "* **DayOfWeekClaimed**\n",
        "* **MonthClaimed**\n",
        "* **MaritalStatus**\n",
        "* **PolicyType**\n",
        "* **VehicleCategory**\n",
        "* **BasePolicy**"
      ]
    },
    {
      "cell_type": "code",
      "execution_count": 43,
      "metadata": {
        "id": "Wdx9wOfumgE4"
      },
      "outputs": [],
      "source": [
        "# List of columns\n",
        "columns_to_encode = ['Make', 'MaritalStatus', 'PolicyType', 'VehicleCategory', 'BasePolicy', 'Month', 'DayOfWeek', 'DayOfWeekClaimed', 'MonthClaimed']\n",
        "\n",
        "# One-hot encode columns_to_encode (Left as uint8 [unsigned 8-bit integers] as it is memory efficient)\n",
        "data = pd.get_dummies(data, columns=columns_to_encode, drop_first=False)"
      ]
    },
    {
      "cell_type": "code",
      "execution_count": 44,
      "metadata": {
        "colab": {
          "base_uri": "https://localhost:8080/",
          "height": 244
        },
        "id": "CMekS0qPc-e0",
        "outputId": "4f2ed787-45bd-475e-d165-e4806375a931"
      },
      "outputs": [
        {
          "data": {
            "text/html": [
              "<div>\n",
              "<style scoped>\n",
              "    .dataframe tbody tr th:only-of-type {\n",
              "        vertical-align: middle;\n",
              "    }\n",
              "\n",
              "    .dataframe tbody tr th {\n",
              "        vertical-align: top;\n",
              "    }\n",
              "\n",
              "    .dataframe thead th {\n",
              "        text-align: right;\n",
              "    }\n",
              "</style>\n",
              "<table border=\"1\" class=\"dataframe\">\n",
              "  <thead>\n",
              "    <tr style=\"text-align: right;\">\n",
              "      <th></th>\n",
              "      <th>Age</th>\n",
              "      <th>VehiclePrice</th>\n",
              "      <th>FraudFound_P</th>\n",
              "      <th>RepNumber</th>\n",
              "      <th>Deductible</th>\n",
              "      <th>DriverRating</th>\n",
              "      <th>Days_Policy_Accident</th>\n",
              "      <th>Days_Policy_Claim</th>\n",
              "      <th>PastNumberOfClaims</th>\n",
              "      <th>AgeOfVehicle</th>\n",
              "      <th>AgeOfPolicyHolder</th>\n",
              "      <th>PoliceReportFiled</th>\n",
              "      <th>WitnessPresent</th>\n",
              "      <th>NumberOfSuppliments</th>\n",
              "      <th>AddressChange_Claim</th>\n",
              "      <th>NumberOfCars</th>\n",
              "      <th>Year</th>\n",
              "      <th>AgeMatchesRange</th>\n",
              "      <th>AgentTypeExternal</th>\n",
              "      <th>Is_Policy_Holder_Fault</th>\n",
              "      <th>Is_Urban</th>\n",
              "      <th>Is_Male</th>\n",
              "      <th>Claim_Processing_Time</th>\n",
              "      <th>Policy_Type_Vehicle_Category</th>\n",
              "      <th>Low_Price_Highly_Insured</th>\n",
              "      <th>PolicyHolder_Aggressiveness</th>\n",
              "      <th>Vehicle_Value_to_Age_Ratio</th>\n",
              "      <th>Vehicle_Value_to_Deductible_Ratio</th>\n",
              "      <th>Has_Claimed_Before</th>\n",
              "      <th>Severe_Accident</th>\n",
              "      <th>Make_Accura</th>\n",
              "      <th>Make_BMW</th>\n",
              "      <th>Make_Chevrolet</th>\n",
              "      <th>Make_Dodge</th>\n",
              "      <th>Make_Ferrari</th>\n",
              "      <th>Make_Ford</th>\n",
              "      <th>Make_Honda</th>\n",
              "      <th>Make_Jaguar</th>\n",
              "      <th>Make_Lexus</th>\n",
              "      <th>Make_Mazda</th>\n",
              "      <th>Make_Mecedes</th>\n",
              "      <th>Make_Mercury</th>\n",
              "      <th>Make_Nisson</th>\n",
              "      <th>Make_Pontiac</th>\n",
              "      <th>Make_Porche</th>\n",
              "      <th>Make_Saab</th>\n",
              "      <th>Make_Saturn</th>\n",
              "      <th>Make_Toyota</th>\n",
              "      <th>Make_VW</th>\n",
              "      <th>MaritalStatus_Divorced</th>\n",
              "      <th>MaritalStatus_Married</th>\n",
              "      <th>MaritalStatus_Single</th>\n",
              "      <th>MaritalStatus_Widow</th>\n",
              "      <th>PolicyType_Sedan - All Perils</th>\n",
              "      <th>PolicyType_Sedan - Collision</th>\n",
              "      <th>PolicyType_Sedan - Liability</th>\n",
              "      <th>PolicyType_Sport - All Perils</th>\n",
              "      <th>PolicyType_Sport - Collision</th>\n",
              "      <th>PolicyType_Sport - Liability</th>\n",
              "      <th>PolicyType_Utility - All Perils</th>\n",
              "      <th>PolicyType_Utility - Collision</th>\n",
              "      <th>PolicyType_Utility - Liability</th>\n",
              "      <th>VehicleCategory_Sedan</th>\n",
              "      <th>VehicleCategory_Sport</th>\n",
              "      <th>VehicleCategory_Utility</th>\n",
              "      <th>BasePolicy_All Perils</th>\n",
              "      <th>BasePolicy_Collision</th>\n",
              "      <th>BasePolicy_Liability</th>\n",
              "      <th>Month_Apr</th>\n",
              "      <th>Month_Aug</th>\n",
              "      <th>Month_Dec</th>\n",
              "      <th>Month_Feb</th>\n",
              "      <th>Month_Jan</th>\n",
              "      <th>Month_Jul</th>\n",
              "      <th>Month_Jun</th>\n",
              "      <th>Month_Mar</th>\n",
              "      <th>Month_May</th>\n",
              "      <th>Month_Nov</th>\n",
              "      <th>Month_Oct</th>\n",
              "      <th>Month_Sep</th>\n",
              "      <th>DayOfWeek_Friday</th>\n",
              "      <th>DayOfWeek_Monday</th>\n",
              "      <th>DayOfWeek_Saturday</th>\n",
              "      <th>DayOfWeek_Sunday</th>\n",
              "      <th>DayOfWeek_Thursday</th>\n",
              "      <th>DayOfWeek_Tuesday</th>\n",
              "      <th>DayOfWeek_Wednesday</th>\n",
              "      <th>DayOfWeekClaimed_Friday</th>\n",
              "      <th>DayOfWeekClaimed_Monday</th>\n",
              "      <th>DayOfWeekClaimed_Saturday</th>\n",
              "      <th>DayOfWeekClaimed_Sunday</th>\n",
              "      <th>DayOfWeekClaimed_Thursday</th>\n",
              "      <th>DayOfWeekClaimed_Tuesday</th>\n",
              "      <th>DayOfWeekClaimed_Wednesday</th>\n",
              "      <th>MonthClaimed_Apr</th>\n",
              "      <th>MonthClaimed_Aug</th>\n",
              "      <th>MonthClaimed_Dec</th>\n",
              "      <th>MonthClaimed_Feb</th>\n",
              "      <th>MonthClaimed_Jan</th>\n",
              "      <th>MonthClaimed_Jul</th>\n",
              "      <th>MonthClaimed_Jun</th>\n",
              "      <th>MonthClaimed_Mar</th>\n",
              "      <th>MonthClaimed_May</th>\n",
              "      <th>MonthClaimed_Nov</th>\n",
              "      <th>MonthClaimed_Oct</th>\n",
              "      <th>MonthClaimed_Sep</th>\n",
              "    </tr>\n",
              "  </thead>\n",
              "  <tbody>\n",
              "    <tr>\n",
              "      <th>0</th>\n",
              "      <td>21.0</td>\n",
              "      <td>69001.0</td>\n",
              "      <td>0</td>\n",
              "      <td>12</td>\n",
              "      <td>300</td>\n",
              "      <td>1</td>\n",
              "      <td>31</td>\n",
              "      <td>31</td>\n",
              "      <td>0</td>\n",
              "      <td>3</td>\n",
              "      <td>26</td>\n",
              "      <td>0</td>\n",
              "      <td>0</td>\n",
              "      <td>0</td>\n",
              "      <td>1.0</td>\n",
              "      <td>3</td>\n",
              "      <td>1994</td>\n",
              "      <td>0</td>\n",
              "      <td>1</td>\n",
              "      <td>1</td>\n",
              "      <td>1</td>\n",
              "      <td>0</td>\n",
              "      <td>6</td>\n",
              "      <td>0</td>\n",
              "      <td>0</td>\n",
              "      <td>0</td>\n",
              "      <td>17250.250000</td>\n",
              "      <td>229.239203</td>\n",
              "      <td>1</td>\n",
              "      <td>0</td>\n",
              "      <td>False</td>\n",
              "      <td>False</td>\n",
              "      <td>False</td>\n",
              "      <td>False</td>\n",
              "      <td>False</td>\n",
              "      <td>False</td>\n",
              "      <td>True</td>\n",
              "      <td>False</td>\n",
              "      <td>False</td>\n",
              "      <td>False</td>\n",
              "      <td>False</td>\n",
              "      <td>False</td>\n",
              "      <td>False</td>\n",
              "      <td>False</td>\n",
              "      <td>False</td>\n",
              "      <td>False</td>\n",
              "      <td>False</td>\n",
              "      <td>False</td>\n",
              "      <td>False</td>\n",
              "      <td>False</td>\n",
              "      <td>False</td>\n",
              "      <td>True</td>\n",
              "      <td>False</td>\n",
              "      <td>False</td>\n",
              "      <td>False</td>\n",
              "      <td>False</td>\n",
              "      <td>False</td>\n",
              "      <td>False</td>\n",
              "      <td>True</td>\n",
              "      <td>False</td>\n",
              "      <td>False</td>\n",
              "      <td>False</td>\n",
              "      <td>False</td>\n",
              "      <td>True</td>\n",
              "      <td>False</td>\n",
              "      <td>False</td>\n",
              "      <td>False</td>\n",
              "      <td>True</td>\n",
              "      <td>False</td>\n",
              "      <td>False</td>\n",
              "      <td>True</td>\n",
              "      <td>False</td>\n",
              "      <td>False</td>\n",
              "      <td>False</td>\n",
              "      <td>False</td>\n",
              "      <td>False</td>\n",
              "      <td>False</td>\n",
              "      <td>False</td>\n",
              "      <td>False</td>\n",
              "      <td>False</td>\n",
              "      <td>False</td>\n",
              "      <td>False</td>\n",
              "      <td>False</td>\n",
              "      <td>False</td>\n",
              "      <td>False</td>\n",
              "      <td>False</td>\n",
              "      <td>True</td>\n",
              "      <td>False</td>\n",
              "      <td>False</td>\n",
              "      <td>False</td>\n",
              "      <td>False</td>\n",
              "      <td>False</td>\n",
              "      <td>True</td>\n",
              "      <td>False</td>\n",
              "      <td>False</td>\n",
              "      <td>False</td>\n",
              "      <td>False</td>\n",
              "      <td>False</td>\n",
              "      <td>True</td>\n",
              "      <td>False</td>\n",
              "      <td>False</td>\n",
              "      <td>False</td>\n",
              "      <td>False</td>\n",
              "      <td>False</td>\n",
              "      <td>False</td>\n",
              "      <td>False</td>\n",
              "    </tr>\n",
              "    <tr>\n",
              "      <th>1</th>\n",
              "      <td>34.0</td>\n",
              "      <td>69001.0</td>\n",
              "      <td>0</td>\n",
              "      <td>15</td>\n",
              "      <td>400</td>\n",
              "      <td>4</td>\n",
              "      <td>31</td>\n",
              "      <td>31</td>\n",
              "      <td>0</td>\n",
              "      <td>6</td>\n",
              "      <td>31</td>\n",
              "      <td>1</td>\n",
              "      <td>0</td>\n",
              "      <td>0</td>\n",
              "      <td>0.0</td>\n",
              "      <td>1</td>\n",
              "      <td>1994</td>\n",
              "      <td>1</td>\n",
              "      <td>1</td>\n",
              "      <td>1</td>\n",
              "      <td>1</td>\n",
              "      <td>1</td>\n",
              "      <td>5</td>\n",
              "      <td>0</td>\n",
              "      <td>0</td>\n",
              "      <td>0</td>\n",
              "      <td>9857.285714</td>\n",
              "      <td>172.072319</td>\n",
              "      <td>1</td>\n",
              "      <td>0</td>\n",
              "      <td>False</td>\n",
              "      <td>False</td>\n",
              "      <td>False</td>\n",
              "      <td>False</td>\n",
              "      <td>False</td>\n",
              "      <td>False</td>\n",
              "      <td>True</td>\n",
              "      <td>False</td>\n",
              "      <td>False</td>\n",
              "      <td>False</td>\n",
              "      <td>False</td>\n",
              "      <td>False</td>\n",
              "      <td>False</td>\n",
              "      <td>False</td>\n",
              "      <td>False</td>\n",
              "      <td>False</td>\n",
              "      <td>False</td>\n",
              "      <td>False</td>\n",
              "      <td>False</td>\n",
              "      <td>False</td>\n",
              "      <td>False</td>\n",
              "      <td>True</td>\n",
              "      <td>False</td>\n",
              "      <td>False</td>\n",
              "      <td>False</td>\n",
              "      <td>False</td>\n",
              "      <td>False</td>\n",
              "      <td>True</td>\n",
              "      <td>False</td>\n",
              "      <td>False</td>\n",
              "      <td>False</td>\n",
              "      <td>False</td>\n",
              "      <td>False</td>\n",
              "      <td>True</td>\n",
              "      <td>False</td>\n",
              "      <td>False</td>\n",
              "      <td>True</td>\n",
              "      <td>False</td>\n",
              "      <td>False</td>\n",
              "      <td>False</td>\n",
              "      <td>False</td>\n",
              "      <td>False</td>\n",
              "      <td>True</td>\n",
              "      <td>False</td>\n",
              "      <td>False</td>\n",
              "      <td>False</td>\n",
              "      <td>False</td>\n",
              "      <td>False</td>\n",
              "      <td>False</td>\n",
              "      <td>False</td>\n",
              "      <td>False</td>\n",
              "      <td>False</td>\n",
              "      <td>False</td>\n",
              "      <td>False</td>\n",
              "      <td>False</td>\n",
              "      <td>False</td>\n",
              "      <td>True</td>\n",
              "      <td>False</td>\n",
              "      <td>True</td>\n",
              "      <td>False</td>\n",
              "      <td>False</td>\n",
              "      <td>False</td>\n",
              "      <td>False</td>\n",
              "      <td>False</td>\n",
              "      <td>False</td>\n",
              "      <td>False</td>\n",
              "      <td>False</td>\n",
              "      <td>False</td>\n",
              "      <td>True</td>\n",
              "      <td>False</td>\n",
              "      <td>False</td>\n",
              "      <td>False</td>\n",
              "      <td>False</td>\n",
              "      <td>False</td>\n",
              "      <td>False</td>\n",
              "      <td>False</td>\n",
              "    </tr>\n",
              "    <tr>\n",
              "      <th>2</th>\n",
              "      <td>47.0</td>\n",
              "      <td>69001.0</td>\n",
              "      <td>0</td>\n",
              "      <td>7</td>\n",
              "      <td>400</td>\n",
              "      <td>3</td>\n",
              "      <td>31</td>\n",
              "      <td>31</td>\n",
              "      <td>1</td>\n",
              "      <td>7</td>\n",
              "      <td>41</td>\n",
              "      <td>0</td>\n",
              "      <td>0</td>\n",
              "      <td>0</td>\n",
              "      <td>0.0</td>\n",
              "      <td>1</td>\n",
              "      <td>1994</td>\n",
              "      <td>1</td>\n",
              "      <td>1</td>\n",
              "      <td>1</td>\n",
              "      <td>1</td>\n",
              "      <td>1</td>\n",
              "      <td>13</td>\n",
              "      <td>0</td>\n",
              "      <td>0</td>\n",
              "      <td>3</td>\n",
              "      <td>8625.125000</td>\n",
              "      <td>172.072319</td>\n",
              "      <td>1</td>\n",
              "      <td>0</td>\n",
              "      <td>False</td>\n",
              "      <td>False</td>\n",
              "      <td>False</td>\n",
              "      <td>False</td>\n",
              "      <td>False</td>\n",
              "      <td>False</td>\n",
              "      <td>True</td>\n",
              "      <td>False</td>\n",
              "      <td>False</td>\n",
              "      <td>False</td>\n",
              "      <td>False</td>\n",
              "      <td>False</td>\n",
              "      <td>False</td>\n",
              "      <td>False</td>\n",
              "      <td>False</td>\n",
              "      <td>False</td>\n",
              "      <td>False</td>\n",
              "      <td>False</td>\n",
              "      <td>False</td>\n",
              "      <td>False</td>\n",
              "      <td>True</td>\n",
              "      <td>False</td>\n",
              "      <td>False</td>\n",
              "      <td>False</td>\n",
              "      <td>False</td>\n",
              "      <td>False</td>\n",
              "      <td>False</td>\n",
              "      <td>True</td>\n",
              "      <td>False</td>\n",
              "      <td>False</td>\n",
              "      <td>False</td>\n",
              "      <td>False</td>\n",
              "      <td>False</td>\n",
              "      <td>True</td>\n",
              "      <td>False</td>\n",
              "      <td>False</td>\n",
              "      <td>True</td>\n",
              "      <td>False</td>\n",
              "      <td>False</td>\n",
              "      <td>False</td>\n",
              "      <td>False</td>\n",
              "      <td>False</td>\n",
              "      <td>False</td>\n",
              "      <td>False</td>\n",
              "      <td>False</td>\n",
              "      <td>False</td>\n",
              "      <td>False</td>\n",
              "      <td>False</td>\n",
              "      <td>True</td>\n",
              "      <td>False</td>\n",
              "      <td>True</td>\n",
              "      <td>False</td>\n",
              "      <td>False</td>\n",
              "      <td>False</td>\n",
              "      <td>False</td>\n",
              "      <td>False</td>\n",
              "      <td>False</td>\n",
              "      <td>False</td>\n",
              "      <td>False</td>\n",
              "      <td>False</td>\n",
              "      <td>False</td>\n",
              "      <td>True</td>\n",
              "      <td>False</td>\n",
              "      <td>False</td>\n",
              "      <td>False</td>\n",
              "      <td>False</td>\n",
              "      <td>False</td>\n",
              "      <td>False</td>\n",
              "      <td>False</td>\n",
              "      <td>False</td>\n",
              "      <td>False</td>\n",
              "      <td>False</td>\n",
              "      <td>False</td>\n",
              "      <td>True</td>\n",
              "      <td>False</td>\n",
              "      <td>False</td>\n",
              "    </tr>\n",
              "    <tr>\n",
              "      <th>3</th>\n",
              "      <td>65.0</td>\n",
              "      <td>24500.0</td>\n",
              "      <td>0</td>\n",
              "      <td>4</td>\n",
              "      <td>400</td>\n",
              "      <td>2</td>\n",
              "      <td>31</td>\n",
              "      <td>31</td>\n",
              "      <td>1</td>\n",
              "      <td>8</td>\n",
              "      <td>51</td>\n",
              "      <td>1</td>\n",
              "      <td>0</td>\n",
              "      <td>6</td>\n",
              "      <td>0.0</td>\n",
              "      <td>1</td>\n",
              "      <td>1994</td>\n",
              "      <td>1</td>\n",
              "      <td>1</td>\n",
              "      <td>0</td>\n",
              "      <td>0</td>\n",
              "      <td>1</td>\n",
              "      <td>20</td>\n",
              "      <td>1</td>\n",
              "      <td>0</td>\n",
              "      <td>4</td>\n",
              "      <td>2722.222222</td>\n",
              "      <td>61.097257</td>\n",
              "      <td>1</td>\n",
              "      <td>0</td>\n",
              "      <td>False</td>\n",
              "      <td>False</td>\n",
              "      <td>False</td>\n",
              "      <td>False</td>\n",
              "      <td>False</td>\n",
              "      <td>False</td>\n",
              "      <td>False</td>\n",
              "      <td>False</td>\n",
              "      <td>False</td>\n",
              "      <td>False</td>\n",
              "      <td>False</td>\n",
              "      <td>False</td>\n",
              "      <td>False</td>\n",
              "      <td>False</td>\n",
              "      <td>False</td>\n",
              "      <td>False</td>\n",
              "      <td>False</td>\n",
              "      <td>True</td>\n",
              "      <td>False</td>\n",
              "      <td>False</td>\n",
              "      <td>True</td>\n",
              "      <td>False</td>\n",
              "      <td>False</td>\n",
              "      <td>False</td>\n",
              "      <td>False</td>\n",
              "      <td>True</td>\n",
              "      <td>False</td>\n",
              "      <td>False</td>\n",
              "      <td>False</td>\n",
              "      <td>False</td>\n",
              "      <td>False</td>\n",
              "      <td>False</td>\n",
              "      <td>False</td>\n",
              "      <td>True</td>\n",
              "      <td>False</td>\n",
              "      <td>False</td>\n",
              "      <td>False</td>\n",
              "      <td>True</td>\n",
              "      <td>False</td>\n",
              "      <td>False</td>\n",
              "      <td>False</td>\n",
              "      <td>False</td>\n",
              "      <td>False</td>\n",
              "      <td>False</td>\n",
              "      <td>True</td>\n",
              "      <td>False</td>\n",
              "      <td>False</td>\n",
              "      <td>False</td>\n",
              "      <td>False</td>\n",
              "      <td>False</td>\n",
              "      <td>False</td>\n",
              "      <td>False</td>\n",
              "      <td>True</td>\n",
              "      <td>False</td>\n",
              "      <td>False</td>\n",
              "      <td>False</td>\n",
              "      <td>False</td>\n",
              "      <td>True</td>\n",
              "      <td>False</td>\n",
              "      <td>False</td>\n",
              "      <td>False</td>\n",
              "      <td>False</td>\n",
              "      <td>False</td>\n",
              "      <td>False</td>\n",
              "      <td>False</td>\n",
              "      <td>False</td>\n",
              "      <td>False</td>\n",
              "      <td>False</td>\n",
              "      <td>False</td>\n",
              "      <td>True</td>\n",
              "      <td>False</td>\n",
              "      <td>False</td>\n",
              "      <td>False</td>\n",
              "      <td>False</td>\n",
              "      <td>False</td>\n",
              "      <td>False</td>\n",
              "    </tr>\n",
              "    <tr>\n",
              "      <th>4</th>\n",
              "      <td>27.0</td>\n",
              "      <td>69001.0</td>\n",
              "      <td>0</td>\n",
              "      <td>3</td>\n",
              "      <td>400</td>\n",
              "      <td>1</td>\n",
              "      <td>31</td>\n",
              "      <td>31</td>\n",
              "      <td>0</td>\n",
              "      <td>5</td>\n",
              "      <td>31</td>\n",
              "      <td>0</td>\n",
              "      <td>0</td>\n",
              "      <td>0</td>\n",
              "      <td>0.0</td>\n",
              "      <td>1</td>\n",
              "      <td>1994</td>\n",
              "      <td>0</td>\n",
              "      <td>1</td>\n",
              "      <td>0</td>\n",
              "      <td>1</td>\n",
              "      <td>0</td>\n",
              "      <td>15</td>\n",
              "      <td>0</td>\n",
              "      <td>0</td>\n",
              "      <td>0</td>\n",
              "      <td>11500.166667</td>\n",
              "      <td>172.072319</td>\n",
              "      <td>1</td>\n",
              "      <td>0</td>\n",
              "      <td>False</td>\n",
              "      <td>False</td>\n",
              "      <td>False</td>\n",
              "      <td>False</td>\n",
              "      <td>False</td>\n",
              "      <td>False</td>\n",
              "      <td>True</td>\n",
              "      <td>False</td>\n",
              "      <td>False</td>\n",
              "      <td>False</td>\n",
              "      <td>False</td>\n",
              "      <td>False</td>\n",
              "      <td>False</td>\n",
              "      <td>False</td>\n",
              "      <td>False</td>\n",
              "      <td>False</td>\n",
              "      <td>False</td>\n",
              "      <td>False</td>\n",
              "      <td>False</td>\n",
              "      <td>False</td>\n",
              "      <td>False</td>\n",
              "      <td>True</td>\n",
              "      <td>False</td>\n",
              "      <td>False</td>\n",
              "      <td>False</td>\n",
              "      <td>False</td>\n",
              "      <td>False</td>\n",
              "      <td>True</td>\n",
              "      <td>False</td>\n",
              "      <td>False</td>\n",
              "      <td>False</td>\n",
              "      <td>False</td>\n",
              "      <td>False</td>\n",
              "      <td>True</td>\n",
              "      <td>False</td>\n",
              "      <td>False</td>\n",
              "      <td>True</td>\n",
              "      <td>False</td>\n",
              "      <td>False</td>\n",
              "      <td>False</td>\n",
              "      <td>False</td>\n",
              "      <td>False</td>\n",
              "      <td>True</td>\n",
              "      <td>False</td>\n",
              "      <td>False</td>\n",
              "      <td>False</td>\n",
              "      <td>False</td>\n",
              "      <td>False</td>\n",
              "      <td>False</td>\n",
              "      <td>False</td>\n",
              "      <td>False</td>\n",
              "      <td>True</td>\n",
              "      <td>False</td>\n",
              "      <td>False</td>\n",
              "      <td>False</td>\n",
              "      <td>False</td>\n",
              "      <td>False</td>\n",
              "      <td>False</td>\n",
              "      <td>False</td>\n",
              "      <td>False</td>\n",
              "      <td>False</td>\n",
              "      <td>False</td>\n",
              "      <td>True</td>\n",
              "      <td>False</td>\n",
              "      <td>False</td>\n",
              "      <td>False</td>\n",
              "      <td>False</td>\n",
              "      <td>True</td>\n",
              "      <td>False</td>\n",
              "      <td>False</td>\n",
              "      <td>False</td>\n",
              "      <td>False</td>\n",
              "      <td>False</td>\n",
              "      <td>False</td>\n",
              "      <td>False</td>\n",
              "      <td>False</td>\n",
              "    </tr>\n",
              "  </tbody>\n",
              "</table>\n",
              "</div>"
            ],
            "text/plain": [
              "    Age  VehiclePrice  FraudFound_P  RepNumber  Deductible  DriverRating  \\\n",
              "0  21.0       69001.0             0         12         300             1   \n",
              "1  34.0       69001.0             0         15         400             4   \n",
              "2  47.0       69001.0             0          7         400             3   \n",
              "3  65.0       24500.0             0          4         400             2   \n",
              "4  27.0       69001.0             0          3         400             1   \n",
              "\n",
              "   Days_Policy_Accident  Days_Policy_Claim  PastNumberOfClaims  AgeOfVehicle  \\\n",
              "0                    31                 31                   0             3   \n",
              "1                    31                 31                   0             6   \n",
              "2                    31                 31                   1             7   \n",
              "3                    31                 31                   1             8   \n",
              "4                    31                 31                   0             5   \n",
              "\n",
              "   AgeOfPolicyHolder  PoliceReportFiled  WitnessPresent  NumberOfSuppliments  \\\n",
              "0                 26                  0               0                    0   \n",
              "1                 31                  1               0                    0   \n",
              "2                 41                  0               0                    0   \n",
              "3                 51                  1               0                    6   \n",
              "4                 31                  0               0                    0   \n",
              "\n",
              "   AddressChange_Claim  NumberOfCars  Year  AgeMatchesRange  \\\n",
              "0                  1.0             3  1994                0   \n",
              "1                  0.0             1  1994                1   \n",
              "2                  0.0             1  1994                1   \n",
              "3                  0.0             1  1994                1   \n",
              "4                  0.0             1  1994                0   \n",
              "\n",
              "   AgentTypeExternal  Is_Policy_Holder_Fault  Is_Urban  Is_Male  \\\n",
              "0                  1                       1         1        0   \n",
              "1                  1                       1         1        1   \n",
              "2                  1                       1         1        1   \n",
              "3                  1                       0         0        1   \n",
              "4                  1                       0         1        0   \n",
              "\n",
              "   Claim_Processing_Time  Policy_Type_Vehicle_Category  \\\n",
              "0                      6                             0   \n",
              "1                      5                             0   \n",
              "2                     13                             0   \n",
              "3                     20                             1   \n",
              "4                     15                             0   \n",
              "\n",
              "   Low_Price_Highly_Insured  PolicyHolder_Aggressiveness  \\\n",
              "0                         0                            0   \n",
              "1                         0                            0   \n",
              "2                         0                            3   \n",
              "3                         0                            4   \n",
              "4                         0                            0   \n",
              "\n",
              "   Vehicle_Value_to_Age_Ratio  Vehicle_Value_to_Deductible_Ratio  \\\n",
              "0                17250.250000                         229.239203   \n",
              "1                 9857.285714                         172.072319   \n",
              "2                 8625.125000                         172.072319   \n",
              "3                 2722.222222                          61.097257   \n",
              "4                11500.166667                         172.072319   \n",
              "\n",
              "   Has_Claimed_Before  Severe_Accident  Make_Accura  Make_BMW  Make_Chevrolet  \\\n",
              "0                   1                0        False     False           False   \n",
              "1                   1                0        False     False           False   \n",
              "2                   1                0        False     False           False   \n",
              "3                   1                0        False     False           False   \n",
              "4                   1                0        False     False           False   \n",
              "\n",
              "   Make_Dodge  Make_Ferrari  Make_Ford  Make_Honda  Make_Jaguar  Make_Lexus  \\\n",
              "0       False         False      False        True        False       False   \n",
              "1       False         False      False        True        False       False   \n",
              "2       False         False      False        True        False       False   \n",
              "3       False         False      False       False        False       False   \n",
              "4       False         False      False        True        False       False   \n",
              "\n",
              "   Make_Mazda  Make_Mecedes  Make_Mercury  Make_Nisson  Make_Pontiac  \\\n",
              "0       False         False         False        False         False   \n",
              "1       False         False         False        False         False   \n",
              "2       False         False         False        False         False   \n",
              "3       False         False         False        False         False   \n",
              "4       False         False         False        False         False   \n",
              "\n",
              "   Make_Porche  Make_Saab  Make_Saturn  Make_Toyota  Make_VW  \\\n",
              "0        False      False        False        False    False   \n",
              "1        False      False        False        False    False   \n",
              "2        False      False        False        False    False   \n",
              "3        False      False        False         True    False   \n",
              "4        False      False        False        False    False   \n",
              "\n",
              "   MaritalStatus_Divorced  MaritalStatus_Married  MaritalStatus_Single  \\\n",
              "0                   False                  False                  True   \n",
              "1                   False                  False                  True   \n",
              "2                   False                   True                 False   \n",
              "3                   False                   True                 False   \n",
              "4                   False                  False                  True   \n",
              "\n",
              "   MaritalStatus_Widow  PolicyType_Sedan - All Perils  \\\n",
              "0                False                          False   \n",
              "1                False                          False   \n",
              "2                False                          False   \n",
              "3                False                          False   \n",
              "4                False                          False   \n",
              "\n",
              "   PolicyType_Sedan - Collision  PolicyType_Sedan - Liability  \\\n",
              "0                         False                         False   \n",
              "1                         False                         False   \n",
              "2                         False                         False   \n",
              "3                         False                          True   \n",
              "4                         False                         False   \n",
              "\n",
              "   PolicyType_Sport - All Perils  PolicyType_Sport - Collision  \\\n",
              "0                          False                         False   \n",
              "1                          False                          True   \n",
              "2                          False                          True   \n",
              "3                          False                         False   \n",
              "4                          False                          True   \n",
              "\n",
              "   PolicyType_Sport - Liability  PolicyType_Utility - All Perils  \\\n",
              "0                          True                            False   \n",
              "1                         False                            False   \n",
              "2                         False                            False   \n",
              "3                         False                            False   \n",
              "4                         False                            False   \n",
              "\n",
              "   PolicyType_Utility - Collision  PolicyType_Utility - Liability  \\\n",
              "0                           False                           False   \n",
              "1                           False                           False   \n",
              "2                           False                           False   \n",
              "3                           False                           False   \n",
              "4                           False                           False   \n",
              "\n",
              "   VehicleCategory_Sedan  VehicleCategory_Sport  VehicleCategory_Utility  \\\n",
              "0                  False                   True                    False   \n",
              "1                  False                   True                    False   \n",
              "2                  False                   True                    False   \n",
              "3                  False                   True                    False   \n",
              "4                  False                   True                    False   \n",
              "\n",
              "   BasePolicy_All Perils  BasePolicy_Collision  BasePolicy_Liability  \\\n",
              "0                  False                 False                  True   \n",
              "1                  False                  True                 False   \n",
              "2                  False                  True                 False   \n",
              "3                  False                 False                  True   \n",
              "4                  False                  True                 False   \n",
              "\n",
              "   Month_Apr  Month_Aug  Month_Dec  Month_Feb  Month_Jan  Month_Jul  \\\n",
              "0      False      False       True      False      False      False   \n",
              "1      False      False      False      False       True      False   \n",
              "2      False      False      False      False      False      False   \n",
              "3      False      False      False      False      False      False   \n",
              "4      False      False      False      False       True      False   \n",
              "\n",
              "   Month_Jun  Month_Mar  Month_May  Month_Nov  Month_Oct  Month_Sep  \\\n",
              "0      False      False      False      False      False      False   \n",
              "1      False      False      False      False      False      False   \n",
              "2      False      False      False      False       True      False   \n",
              "3       True      False      False      False      False      False   \n",
              "4      False      False      False      False      False      False   \n",
              "\n",
              "   DayOfWeek_Friday  DayOfWeek_Monday  DayOfWeek_Saturday  DayOfWeek_Sunday  \\\n",
              "0             False             False               False             False   \n",
              "1             False             False               False             False   \n",
              "2              True             False               False             False   \n",
              "3             False             False                True             False   \n",
              "4             False              True               False             False   \n",
              "\n",
              "   DayOfWeek_Thursday  DayOfWeek_Tuesday  DayOfWeek_Wednesday  \\\n",
              "0               False              False                 True   \n",
              "1               False              False                 True   \n",
              "2               False              False                False   \n",
              "3               False              False                False   \n",
              "4               False              False                False   \n",
              "\n",
              "   DayOfWeekClaimed_Friday  DayOfWeekClaimed_Monday  \\\n",
              "0                    False                    False   \n",
              "1                    False                     True   \n",
              "2                    False                    False   \n",
              "3                     True                    False   \n",
              "4                    False                    False   \n",
              "\n",
              "   DayOfWeekClaimed_Saturday  DayOfWeekClaimed_Sunday  \\\n",
              "0                      False                    False   \n",
              "1                      False                    False   \n",
              "2                      False                    False   \n",
              "3                      False                    False   \n",
              "4                      False                    False   \n",
              "\n",
              "   DayOfWeekClaimed_Thursday  DayOfWeekClaimed_Tuesday  \\\n",
              "0                      False                      True   \n",
              "1                      False                     False   \n",
              "2                       True                     False   \n",
              "3                      False                     False   \n",
              "4                      False                      True   \n",
              "\n",
              "   DayOfWeekClaimed_Wednesday  MonthClaimed_Apr  MonthClaimed_Aug  \\\n",
              "0                       False             False             False   \n",
              "1                       False             False             False   \n",
              "2                       False             False             False   \n",
              "3                       False             False             False   \n",
              "4                       False             False             False   \n",
              "\n",
              "   MonthClaimed_Dec  MonthClaimed_Feb  MonthClaimed_Jan  MonthClaimed_Jul  \\\n",
              "0             False             False              True             False   \n",
              "1             False             False              True             False   \n",
              "2             False             False             False             False   \n",
              "3             False             False             False              True   \n",
              "4             False              True             False             False   \n",
              "\n",
              "   MonthClaimed_Jun  MonthClaimed_Mar  MonthClaimed_May  MonthClaimed_Nov  \\\n",
              "0             False             False             False             False   \n",
              "1             False             False             False             False   \n",
              "2             False             False             False              True   \n",
              "3             False             False             False             False   \n",
              "4             False             False             False             False   \n",
              "\n",
              "   MonthClaimed_Oct  MonthClaimed_Sep  \n",
              "0             False             False  \n",
              "1             False             False  \n",
              "2             False             False  \n",
              "3             False             False  \n",
              "4             False             False  "
            ]
          },
          "execution_count": 44,
          "metadata": {},
          "output_type": "execute_result"
        }
      ],
      "source": [
        "data.head()"
      ]
    },
    {
      "cell_type": "markdown",
      "metadata": {
        "id": "Ra85QpUOnRFx"
      },
      "source": [
        "# Prediction Validation"
      ]
    },
    {
      "cell_type": "markdown",
      "metadata": {
        "id": "n6cCABOSnT7s"
      },
      "source": [
        "## Splitting the Data"
      ]
    },
    {
      "cell_type": "code",
      "execution_count": 45,
      "metadata": {
        "id": "r-dJiAVAnPCq"
      },
      "outputs": [],
      "source": [
        "X = data.drop(columns=['FraudFound_P'])\n",
        "y = data['FraudFound_P']\n",
        "\n",
        "# Split the data into train+validation and test sets\n",
        "X_temp, X_test, y_temp, y_test = train_test_split(X, y, test_size=0.2, random_state=42)\n",
        "\n",
        "# Split the train+validation set into train and validation sets\n",
        "X_train, X_val, y_train, y_val = train_test_split(X_temp, y_temp, test_size=0.25, random_state=42)  # 0.25 x 0.8 = 0.2"
      ]
    },
    {
      "cell_type": "markdown",
      "metadata": {
        "id": "64XJNPYHtPJ-"
      },
      "source": [
        "## Training the Model"
      ]
    },
    {
      "cell_type": "code",
      "execution_count": 46,
      "metadata": {
        "colab": {
          "base_uri": "https://localhost:8080/"
        },
        "id": "ntt9eW0On1Ev",
        "outputId": "73637fe8-8c76-4d72-ad06-495be272a194"
      },
      "outputs": [],
      "source": [
        "param_grid = {\n",
        "    'var_smoothing': [1e-11, 1e-9, 1e-8, 1e-7, 1e-6]  # Example values; adjust as necessary\n",
        "}\n",
        "class_priors = [len(y_train[y_train==0])/len(y_train), 1 - len(y_train[y_train==0])/len(y_train)]\n",
        "# Initialize the model\n",
        "gnb = GaussianNB(priors=class_priors)\n",
        "\n",
        "grid_search = GridSearchCV(estimator=gnb, param_grid=param_grid, scoring='f1', cv=5)\n",
        "\n",
        "# Fit the model on training data with class weights applied during predictions\n",
        "grid_search.fit(X_train, y_train)\n",
        "\n",
        "# Get the best model from grid search\n",
        "best_nb_model = grid_search.best_estimator_"
      ]
    },
    {
      "cell_type": "markdown",
      "metadata": {
        "id": "bkmCvCMitbEs"
      },
      "source": [
        "## Validating the Model"
      ]
    },
    {
      "cell_type": "code",
      "execution_count": 47,
      "metadata": {
        "colab": {
          "base_uri": "https://localhost:8080/"
        },
        "id": "8sKf83vooG9n",
        "outputId": "16c09a3b-84ea-49c4-e473-e2bd7fcf09a2"
      },
      "outputs": [
        {
          "name": "stdout",
          "output_type": "stream",
          "text": [
            "Training ROC AUC: 0.7759877071254317\n",
            "Training Accuracy: 0.6762512160847476\n"
          ]
        }
      ],
      "source": [
        "# Evaluate the model on the training set\n",
        "train_predictions = best_nb_model.predict_proba(X_train)[:, 1]\n",
        "train_roc_auc = roc_auc_score(y_train, train_predictions)\n",
        "print(f'Training ROC AUC: {train_roc_auc}')\n",
        "train_predictions_class = best_nb_model.predict(X_train)\n",
        "train_accuracy = accuracy_score(y_train, train_predictions_class)\n",
        "print(f'Training Accuracy: {train_accuracy}')"
      ]
    },
    {
      "cell_type": "code",
      "execution_count": 48,
      "metadata": {
        "colab": {
          "base_uri": "https://localhost:8080/"
        },
        "id": "XBy_Jtm-tebE",
        "outputId": "79622a38-9dcb-4282-942b-ec341896f2b9"
      },
      "outputs": [
        {
          "name": "stdout",
          "output_type": "stream",
          "text": [
            "Validation ROC AUC: 0.7847299141095752\n",
            "Best parameters: {'var_smoothing': 1e-11}\n",
            "Validation Accuracy: 0.6929312581063554\n"
          ]
        }
      ],
      "source": [
        "# Evaluate the model on the validation set\n",
        "val_predictions = best_nb_model.predict_proba(X_val)[:, 1]\n",
        "val_roc_auc = roc_auc_score(y_val, val_predictions)\n",
        "print(f'Validation ROC AUC: {val_roc_auc}')\n",
        "print(\"Best parameters:\", grid_search.best_params_)\n",
        "\n",
        "val_predictions_class = best_nb_model.predict(X_val)\n",
        "val_accuracy = accuracy_score(y_val, val_predictions_class)\n",
        "print(f'Validation Accuracy: {val_accuracy}')"
      ]
    },
    {
      "cell_type": "markdown",
      "metadata": {
        "id": "SqWivrGCtkAT"
      },
      "source": [
        "## Finding Important Features"
      ]
    },
    {
      "cell_type": "code",
      "execution_count": 58,
      "metadata": {},
      "outputs": [
        {
          "data": {
            "application/vnd.jupyter.widget-view+json": {
              "model_id": "59c50fa614354cccbc2dc2398d381363",
              "version_major": 2,
              "version_minor": 0
            },
            "text/plain": [
              "  0%|          | 0/100 [00:00<?, ?it/s]"
            ]
          },
          "metadata": {},
          "output_type": "display_data"
        },
        {
          "data": {
            "image/png": "[encoded data removed]",
            "text/plain": [
              "<Figure size 800x950 with 2 Axes>"
            ]
          },
          "metadata": {},
          "output_type": "display_data"
        }
      ],
      "source": [
        "import shap\n",
        "\n",
        "# Convert all bool columns to int\n",
        "X_train = X_train.astype({col: 'int' for col in X_train.select_dtypes(include='bool').columns})\n",
        "\n",
        "# Generate SHAP explainer\n",
        "X_sample = shap.sample(X_train, 100)\n",
        "explainer = shap.KernelExplainer(best_nb_model.predict_proba, data=X_sample)\n",
        "shap_values = explainer.shap_values(X_sample)\n",
        "\n",
        "# Use the positive class (class 1)\n",
        "shap_value = shap_values[:,:,1]\n",
        "\n",
        "# Plot feature importance\n",
        "shap.summary_plot(shap_value, X_sample)"
      ]
    },
    {
      "cell_type": "code",
      "execution_count": 50,
      "metadata": {
        "colab": {
          "base_uri": "https://localhost:8080/",
          "height": 718
        },
        "id": "8SSdg4wmtkQX",
        "outputId": "7c37e17e-4ba8-493d-8b74-a398dfefebed"
      },
      "outputs": [
        {
          "data": {
            "image/png": "[encoded data removed]",
            "text/plain": [
              "<Figure size 1000x800 with 1 Axes>"
            ]
          },
          "metadata": {},
          "output_type": "display_data"
        }
      ],
      "source": [
        "feature_means = best_nb_model.theta_\n",
        "feature_variances = best_nb_model.var_\n",
        "\n",
        "# Feature importance: Difference between class means scaled by variance\n",
        "feature_importance = np.abs(feature_means[1] - feature_means[0]) / np.sqrt(feature_variances[0] + feature_variances[1])\n",
        "\n",
        "# Create a DataFrame for visualization\n",
        "features_df = pd.DataFrame({\n",
        "    'Feature': X_train.columns,\n",
        "    'Importance': feature_importance\n",
        "}).sort_values(by='Importance', ascending=False)\n",
        "\n",
        "# Plot the top 15 features\n",
        "plt.figure(figsize=(10, 8))\n",
        "plt.barh(features_df['Feature'].iloc[:15], features_df['Importance'].iloc[:15])\n",
        "plt.xlabel('Importance')\n",
        "plt.title('Top 15 Feature Importances from GaussianNB')\n",
        "plt.gca().invert_yaxis()\n",
        "plt.show()"
      ]
    },
    {
      "cell_type": "markdown",
      "metadata": {
        "id": "DiGrsBJmtnZ-"
      },
      "source": [
        "## Making Predictions on the Test Set"
      ]
    },
    {
      "cell_type": "code",
      "execution_count": 51,
      "metadata": {
        "id": "-zhgoGNwtqCC"
      },
      "outputs": [],
      "source": [
        "# Retrieve the best parameters from GridSearchCV\n",
        "best_params = grid_search.best_params_\n",
        "\n",
        "# Combine train and validation sets\n",
        "X_final_train = pd.concat([X_train, X_val])\n",
        "y_final_train = pd.concat([y_train, y_val])\n",
        "\n",
        "# Initialize a new Random Forest model with the best parameters\n",
        "final_nb_model = GaussianNB(priors=class_priors, var_smoothing=1e-11)\n",
        "\n",
        "\n",
        "# Train the final model\n",
        "final_nb_model.fit(X_final_train, y_final_train)\n",
        "\n",
        "# Align test columns with train columns\n",
        "X_test = X_test.reindex(columns=X_final_train.columns, fill_value=0)\n",
        "\n",
        "# Predict probabilities for the test set\n",
        "test_predictions = final_nb_model.predict_proba(X_test)[:, 1]"
      ]
    },
    {
      "cell_type": "markdown",
      "metadata": {
        "id": "qPqL2Yid8myN"
      },
      "source": [
        "## Evaluation of Model Performances"
      ]
    },
    {
      "cell_type": "code",
      "execution_count": 56,
      "metadata": {},
      "outputs": [
        {
          "name": "stdout",
          "output_type": "stream",
          "text": [
            "Confusion Matrix:\n",
            " [[1958  927]\n",
            " [  40  159]]\n",
            "\n",
            "Accuracy: 0.6864461738002594\n",
            "Precision: 0.1464088397790055\n",
            "Recall: 0.7989949748743719\n",
            "F1-Score: 0.24747081712062258\n",
            "AUC/ROC: 0.7690271112930336\n",
            "Precision-Recall AUC: 0.15030398302604508\n"
          ]
        }
      ],
      "source": [
        "# Convert predicted probabilities to binary predictions\n",
        "binary_predictions = (test_predictions >= 0.5).astype(int)  # value ranges from 0.1 to 0.5\n",
        "\n",
        "# Calculate AUC/ROC\n",
        "auc_roc = roc_auc_score(y_test, test_predictions)\n",
        "\n",
        "# Calculate Precision\n",
        "precision = precision_score(y_test, binary_predictions)\n",
        "\n",
        "# Calculate Recall\n",
        "recall = recall_score(y_test, binary_predictions)\n",
        "\n",
        "# Calculate F1-Score\n",
        "f1 = f1_score(y_test, binary_predictions)\n",
        "\n",
        "# Calculate Accuracy\n",
        "accuracy = accuracy_score(y_test, binary_predictions)\n",
        "\n",
        "# Generate Confusion Matrix\n",
        "conf_matrix = confusion_matrix(y_test, binary_predictions)\n",
        "\n",
        "# Calculate Precision-Recall Curve and PR AUC\n",
        "precisions, recalls, thresholds = precision_recall_curve(y_test, test_predictions)\n",
        "pr_auc = auc(recalls, precisions)\n",
        "\n",
        "# Print Results\n",
        "print(\"Confusion Matrix:\\n\", conf_matrix)\n",
        "print()\n",
        "print(\"Accuracy:\", accuracy)\n",
        "print(\"Precision:\", precision)\n",
        "print(\"Recall:\", recall)\n",
        "print(\"F1-Score:\", f1)\n",
        "print(\"AUC/ROC:\", auc_roc)\n",
        "print(\"Precision-Recall AUC:\", pr_auc)"
      ]
    }
  ],
  "metadata": {
    "colab": {
      "provenance": []
    },
    "kernelspec": {
      "display_name": "Python 3.12.7 64-bit",
      "language": "python",
      "name": "python3"
    },
    "language_info": {
      "codemirror_mode": {
        "name": "ipython",
        "version": 3
      },
      "file_extension": ".py",
      "mimetype": "text/x-python",
      "name": "python",
      "nbconvert_exporter": "python",
      "pygments_lexer": "ipython3",
      "version": "3.12.7"
    },
    "vscode": {
      "interpreter": {
        "hash": "aee8b7b246df8f9039afb4144a1f6fd8d2ca17a180786b69acc140d282b71a49"
      }
    }
  },
  "nbformat": 4,
  "nbformat_minor": 0
}
